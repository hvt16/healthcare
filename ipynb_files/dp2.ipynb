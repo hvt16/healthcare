{
 "cells": [
  {
   "cell_type": "code",
   "execution_count": 1,
   "id": "expensive-future",
   "metadata": {},
   "outputs": [],
   "source": [
    "# libraries\n",
    "import pandas as pd\n",
    "from sklearn.tree import DecisionTreeClassifier\n",
    "from sklearn.ensemble import RandomForestClassifier\n",
    "from sklearn.svm import SVC\n",
    "from sklearn.naive_bayes import GaussianNB\n",
    "from sklearn.naive_bayes import MultinomialNB\n",
    "from sklearn.ensemble import GradientBoostingClassifier\n",
    "from sklearn.metrics import accuracy_score\n",
    "from scipy.stats import mode\n",
    "import json\n",
    "import pickle"
   ]
  },
  {
   "cell_type": "code",
   "execution_count": 2,
   "id": "chinese-benefit",
   "metadata": {},
   "outputs": [],
   "source": [
    "# dataset creation\n",
    "train_data = pd.read_csv(\"../datasets/archive/Training.csv\")\n",
    "test_data = pd.read_csv(\"../datasets/archive/Testing.csv\")\n",
    "\n",
    "# features\n",
    "x_train = train_data.drop(columns=[\"prognosis\"]).dropna(axis=1, how=\"any\", thresh=None, subset=None, inplace=False)\n",
    "\n",
    "# labels\n",
    "y_train = train_data[\"prognosis\"]\n",
    "\n",
    "x_test = test_data.drop(columns=[\"prognosis\"])\n",
    "y_test = test_data[\"prognosis\"]"
   ]
  },
  {
   "cell_type": "code",
   "execution_count": 3,
   "id": "nominated-preservation",
   "metadata": {},
   "outputs": [],
   "source": [
    "symptomes = list(x_train.columns)\n",
    "diseases = list(set(y_train))"
   ]
  },
  {
   "cell_type": "code",
   "execution_count": 4,
   "id": "statistical-spine",
   "metadata": {},
   "outputs": [],
   "source": [
    "# symptomes list on which the disease is to be predicted\n",
    "def df_sym(syms):\n",
    "    di = {}\n",
    "    for e in symptomes:\n",
    "        di[e] = 0\n",
    "    for e in syms:\n",
    "        if e in di:\n",
    "            di[e] = 1\n",
    "    test = pd.DataFrame(di, index=[0])\n",
    "    return test"
   ]
  },
  {
   "cell_type": "code",
   "execution_count": 5,
   "id": "indian-production",
   "metadata": {},
   "outputs": [],
   "source": [
    "test1 = df_sym(list(( 'headache', 'vomiting', 'high_fever', 'back_pain', 'joint_pain', 'nausea', 'loss_of_appetite', 'malaise' ,'muscle_pain')))\n",
    "test2 = df_sym(list(('itching','skin_rash','nodal_skin_eruptions')))"
   ]
  },
  {
   "cell_type": "code",
   "execution_count": 7,
   "id": "overall-trace",
   "metadata": {},
   "outputs": [],
   "source": [
    "# model training (skip if already done)"
   ]
  },
  {
   "cell_type": "code",
   "execution_count": 23,
   "id": "civilian-builder",
   "metadata": {},
   "outputs": [],
   "source": [
    "# support vector classifier\n",
    "model_svm = SVC(probability=True)\n",
    "model_svm.fit(x_train, y_train)\n",
    "with open(\"../models/model_svm.pkl\", \"wb\") as file:\n",
    "    pickle.dump(model_svm, file)\n",
    "\n",
    "# Gaussian naive bayes\n",
    "model_gnb = GaussianNB()\n",
    "model_gnb.fit(x_train, y_train)\n",
    "with open(\"../models/model_gnb.pkl\", \"wb\") as file:\n",
    "    pickle.dump(model_gnb, file)\n",
    "\n",
    "# Multinomial naive bayes\n",
    "model_mnb = MultinomialNB()\n",
    "model_mnb.fit(x_train, y_train)\n",
    "with open(\"../models/model_mnb.pkl\", \"wb\") as file:\n",
    "    pickle.dump(model_mnb, file)\n",
    "\n",
    "# decision tree classifier\n",
    "model_dtc = DecisionTreeClassifier()\n",
    "model_dtc.fit(x_train, y_train)\n",
    "with open(\"../models/model_dtc.pkl\", \"wb\") as file:\n",
    "    pickle.dump(model_dtc, file)\n",
    "\n",
    "# random forest classifier\n",
    "model_rfc = RandomForestClassifier()\n",
    "model_rfc.fit(x_train, y_train)\n",
    "with open(\"../models/model_rfc.pkl\", \"wb\") as file:\n",
    "    pickle.dump(model_rfc, file)\n",
    "    \n",
    "# gradient boosting classifier\n",
    "model_gbc = GradientBoostingClassifier()\n",
    "model_gbc.fit(x_train, y_train)\n",
    "with open(\"../models/model_gbc.pkl\", \"wb\") as file:\n",
    "    pickle.dump(model_gbc, file)"
   ]
  },
  {
   "cell_type": "code",
   "execution_count": 8,
   "id": "bulgarian-fifty",
   "metadata": {},
   "outputs": [],
   "source": [
    "# loading saved models"
   ]
  },
  {
   "cell_type": "code",
   "execution_count": 9,
   "id": "living-assault",
   "metadata": {},
   "outputs": [],
   "source": [
    "with open(\"../models/model_svm.pkl\", \"rb\") as file:\n",
    "    model_svm = pickle.load(file)\n",
    "\n",
    "with open(\"../models/model_gnb.pkl\", \"rb\") as file:\n",
    "    model_gnb = pickle.load(file)\n",
    "    \n",
    "with open(\"../models/model_mnb.pkl\", \"rb\") as file:\n",
    "    model_mnb = pickle.load(file)\n",
    "    \n",
    "with open(\"../models/model_rfc.pkl\", \"rb\") as file:\n",
    "    model_rfc = pickle.load(file)\n",
    "    \n",
    "with open(\"../models/model_dtc.pkl\", \"rb\") as file:\n",
    "    model_dtc = pickle.load(file)\n",
    "    \n",
    "with open(\"../models/model_gbc.pkl\", \"rb\") as file:\n",
    "    model_gbc = pickle.load(file)"
   ]
  },
  {
   "cell_type": "code",
   "execution_count": 10,
   "id": "systematic-creek",
   "metadata": {},
   "outputs": [],
   "source": [
    "# predtion results on test dataset"
   ]
  },
  {
   "cell_type": "code",
   "execution_count": 11,
   "id": "altered-means",
   "metadata": {},
   "outputs": [
    {
     "name": "stdout",
     "output_type": "stream",
     "text": [
      "accuray score of support vector classifier :  100.0\n",
      "accuray score of gaussian naive bayes classifier :  100.0\n",
      "accuray score of multinomial naive bayes classifier :  100.0\n",
      "accuray score of random forest classifier :  97.61904761904762\n",
      "accuray score of decision tree classifier :  97.61904761904762\n",
      "accuray score of gradient boosting classifier :  97.61904761904762\n"
     ]
    }
   ],
   "source": [
    "prediction_res_svm = model_svm.predict(x_test)\n",
    "acc_score = accuracy_score(y_test, prediction_res_svm)*100\n",
    "print(\"accuray score of support vector classifier : \",acc_score)\n",
    "\n",
    "prediction_res_gnb = model_gnb.predict(x_test)\n",
    "acc_score = accuracy_score(y_test, prediction_res_gnb)*100\n",
    "print(\"accuray score of gaussian naive bayes classifier : \",acc_score)\n",
    "\n",
    "prediction_res_mnb = model_mnb.predict(x_test)\n",
    "acc_score = accuracy_score(y_test, prediction_res_mnb)*100\n",
    "print(\"accuray score of multinomial naive bayes classifier : \",acc_score)\n",
    "\n",
    "prediction_res_rfc = model_rfc.predict(x_test)\n",
    "acc_score = accuracy_score(y_test, prediction_res_rfc)*100\n",
    "print(\"accuray score of random forest classifier : \",acc_score)\n",
    "\n",
    "prediction_res_dtc = model_dtc.predict(x_test)\n",
    "acc_score = accuracy_score(y_test, prediction_res_dtc)*100\n",
    "print(\"accuray score of decision tree classifier : \",acc_score)\n",
    "\n",
    "prediction_res_gbc = model_gbc.predict(x_test)\n",
    "acc_score = accuracy_score(y_test, prediction_res_gbc)*100\n",
    "print(\"accuray score of gradient boosting classifier : \",acc_score)"
   ]
  },
  {
   "cell_type": "code",
   "execution_count": 12,
   "id": "banner-caribbean",
   "metadata": {},
   "outputs": [],
   "source": [
    "# loading medicines dataset"
   ]
  },
  {
   "cell_type": "code",
   "execution_count": 23,
   "id": "threatened-plain",
   "metadata": {},
   "outputs": [],
   "source": [
    "with open(\"../datasets/medicines.json\") as file:\n",
    "    m_di = json.load(file)"
   ]
  },
  {
   "cell_type": "code",
   "execution_count": 14,
   "id": "undefined-hudson",
   "metadata": {},
   "outputs": [],
   "source": [
    "# sample input tests"
   ]
  },
  {
   "cell_type": "code",
   "execution_count": 15,
   "id": "mature-stick",
   "metadata": {},
   "outputs": [],
   "source": [
    "test1 = df_sym(list(( 'headache', 'vomiting', 'high_fever', 'back_pain', 'joint_pain', 'nausea', 'loss_of_appetite', 'malaise' ,'muscle_pain')))\n",
    "test2 = df_sym(list(('itching','skin_rash','nodal_skin_eruptions')))"
   ]
  },
  {
   "cell_type": "code",
   "execution_count": 16,
   "id": "reliable-montreal",
   "metadata": {},
   "outputs": [],
   "source": [
    "def complete_prediction(model, test):\n",
    "    pred_prob = model.predict_proba(test)\n",
    "    classes = list(model.classes_)\n",
    "    results = {}\n",
    "    for i in range(len(classes)):\n",
    "        results[classes[i]] = pred_prob[0][i]*100\n",
    "    top3 = sorted(results, key=results.get, reverse=True)[:3]\n",
    "    final_prediction = []\n",
    "    for e in top3:\n",
    "        disease_name = e\n",
    "        confidence_ratio = results[e]\n",
    "#         taking only 3 medicines atmost\n",
    "        medicines = m_di[e][:3]\n",
    "        final_prediction.append({\"disease_name\":disease_name,\n",
    "                                \"confidence_ratio\":confidence_ratio,\n",
    "                                \"medicines\":medicines})\n",
    "    return final_prediction"
   ]
  },
  {
   "cell_type": "code",
   "execution_count": 17,
   "id": "better-edition",
   "metadata": {},
   "outputs": [],
   "source": [
    "# testing on sample test1"
   ]
  },
  {
   "cell_type": "code",
   "execution_count": 21,
   "id": "alpine-badge",
   "metadata": {},
   "outputs": [
    {
     "name": "stdout",
     "output_type": "stream",
     "text": [
      "svc results : \n",
      "{'disease_name': 'Dengue', 'confidence_ratio': 16.262309588521823, 'medicines': ['Dengvaxia', 'Corticosteroids', 'corticosteroid']}\n",
      "{'disease_name': 'Malaria', 'confidence_ratio': 7.8459822040306655, 'medicines': ['Doxycycline', 'Lariam', 'Doxy 100']}\n",
      "{'disease_name': 'Paralysis (brain hemorrhage)', 'confidence_ratio': 4.154518400124923, 'medicines': ['Dichlorphenamide', 'thiopental', 'GABA']}\n"
     ]
    }
   ],
   "source": [
    "print(\"svc results : \")\n",
    "svc_results = complete_prediction(model_svm, test1)\n",
    "for e in svc_results:\n",
    "    print(e)"
   ]
  },
  {
   "cell_type": "code",
   "execution_count": 24,
   "id": "fallen-database",
   "metadata": {},
   "outputs": [
    {
     "name": "stdout",
     "output_type": "stream",
     "text": [
      "gnb results : \n",
      "{'disease_name': 'Dengue', 'confidence_ratio': 100.0, 'medicines': ['Dengvaxia', 'Corticosteroids', 'corticosteroid']}\n",
      "{'disease_name': '(vertigo) Paroymsal  Positional Vertigo', 'confidence_ratio': 0.0, 'medicines': ['NA']}\n",
      "{'disease_name': 'AIDS', 'confidence_ratio': 0.0, 'medicines': ['Marinol', 'Somatropin', 'Dronabinol']}\n"
     ]
    }
   ],
   "source": [
    "print(\"gnb results : \")\n",
    "gnb_results = complete_prediction(model_gnb, test1)\n",
    "for e in gnb_results:\n",
    "    print(e)"
   ]
  },
  {
   "cell_type": "code",
   "execution_count": 25,
   "id": "proprietary-spirit",
   "metadata": {},
   "outputs": [
    {
     "name": "stdout",
     "output_type": "stream",
     "text": [
      "mnb results : \n",
      "{'disease_name': 'Dengue', 'confidence_ratio': 99.9999416572663, 'medicines': ['Dengvaxia', 'Corticosteroids', 'corticosteroid']}\n",
      "{'disease_name': 'Malaria', 'confidence_ratio': 5.3433195082607805e-05, 'medicines': ['Atovaquone / proguanil', 'Doxycycline', 'Coartem']}\n",
      "{'disease_name': 'hepatitis A', 'confidence_ratio': 3.7137414231450943e-06, 'medicines': ['Hepatitis b adult vaccine', 'Primavax', 'paracetamol']}\n"
     ]
    }
   ],
   "source": [
    "print(\"mnb results : \")\n",
    "mnb_results = complete_prediction(model_mnb, test1)\n",
    "for e in mnb_results:\n",
    "    print(e)"
   ]
  },
  {
   "cell_type": "code",
   "execution_count": 27,
   "id": "acting-distributor",
   "metadata": {},
   "outputs": [
    {
     "name": "stdout",
     "output_type": "stream",
     "text": [
      "dtc results : \n",
      "{'disease_name': 'Malaria', 'confidence_ratio': 100.0, 'medicines': ['Atovaquone / proguanil', 'Doxycycline', 'Coartem']}\n",
      "{'disease_name': '(vertigo) Paroymsal  Positional Vertigo', 'confidence_ratio': 0.0, 'medicines': ['NA']}\n",
      "{'disease_name': 'AIDS', 'confidence_ratio': 0.0, 'medicines': ['Marinol', 'Somatropin', 'Dronabinol']}\n"
     ]
    }
   ],
   "source": [
    "print(\"dtc results : \")\n",
    "dtc_results = complete_prediction(model_dtc, test1)\n",
    "for e in dtc_results:\n",
    "    print(e)"
   ]
  },
  {
   "cell_type": "code",
   "execution_count": 28,
   "id": "absent-composite",
   "metadata": {},
   "outputs": [
    {
     "name": "stdout",
     "output_type": "stream",
     "text": [
      "rfc results : \n",
      "{'disease_name': 'Dengue', 'confidence_ratio': 42.0, 'medicines': ['Dengvaxia', 'Corticosteroids', 'corticosteroid']}\n",
      "{'disease_name': 'Malaria', 'confidence_ratio': 24.0, 'medicines': ['Atovaquone / proguanil', 'Doxycycline', 'Coartem']}\n",
      "{'disease_name': 'hepatitis A', 'confidence_ratio': 9.0, 'medicines': ['Hepatitis b adult vaccine', 'Primavax', 'paracetamol']}\n"
     ]
    }
   ],
   "source": [
    "print(\"rfc results : \")\n",
    "rfc_results = complete_prediction(model_rfc, test1)\n",
    "for e in rfc_results:\n",
    "    print(e)"
   ]
  },
  {
   "cell_type": "code",
   "execution_count": 29,
   "id": "undefined-property",
   "metadata": {},
   "outputs": [
    {
     "name": "stdout",
     "output_type": "stream",
     "text": [
      "gbc results : \n",
      "{'disease_name': 'Hepatitis D', 'confidence_ratio': 55.54184134604032, 'medicines': ['Hepatitis b adult vaccine', 'Primavax', 'paracetamol']}\n",
      "{'disease_name': 'Cervical spondylosis', 'confidence_ratio': 11.346819086615815, 'medicines': ['Botox', 'OnabotulinumtoxinA', 'Gardasil']}\n",
      "{'disease_name': 'Malaria', 'confidence_ratio': 6.119281795973552, 'medicines': ['Atovaquone / proguanil', 'Doxycycline', 'Coartem']}\n"
     ]
    }
   ],
   "source": [
    "print(\"gbc results : \")\n",
    "gbc_results = complete_prediction(model_gbc, test1)\n",
    "for e in gbc_results:\n",
    "    print(e)"
   ]
  },
  {
   "cell_type": "code",
   "execution_count": 49,
   "id": "specific-inspector",
   "metadata": {},
   "outputs": [],
   "source": [
    "def get_final_result(test1):\n",
    "    svc_results = complete_prediction(model_svm, test1)\n",
    "    gnb_results = complete_prediction(model_gnb, test1)\n",
    "    mnb_results = complete_prediction(model_mnb, test1)\n",
    "    dtc_results = complete_prediction(model_dtc, test1)\n",
    "    rfc_results = complete_prediction(model_rfc, test1)\n",
    "    gbc_results = complete_prediction(model_gbc, test1)\n",
    "#     calculation of scores \n",
    "    scores = {}\n",
    "    total = 0\n",
    "    for i in range(3):\n",
    "        scores[svc_results[i]['disease_name']] = scores.get(svc_results[i]['disease_name'], 0) + (3-i)*100\n",
    "        scores[gnb_results[i]['disease_name']] = scores.get(gnb_results[i]['disease_name'], 0) + (3-i)*100\n",
    "        scores[mnb_results[i]['disease_name']] = scores.get(mnb_results[i]['disease_name'], 0) + (3-i)*100\n",
    "        scores[dtc_results[i]['disease_name']] = scores.get(dtc_results[i]['disease_name'], 0) + (3-i)*100\n",
    "        scores[rfc_results[i]['disease_name']] = scores.get(rfc_results[i]['disease_name'], 0) + (3-i)*100\n",
    "        scores[gbc_results[i]['disease_name']] = scores.get(gbc_results[i]['disease_name'], 0) + (3-i)*100\n",
    "        total += scores[svc_results[i]['disease_name']]\n",
    "        total += scores[gnb_results[i]['disease_name']]\n",
    "        total += scores[mnb_results[i]['disease_name']]\n",
    "        total += scores[dtc_results[i]['disease_name']]\n",
    "        total += scores[rfc_results[i]['disease_name']]\n",
    "        total += scores[gbc_results[i]['disease_name']]\n",
    "    top3 = sorted(scores, key = scores.get, reverse=True)[:3]\n",
    "    final_results = []\n",
    "    for e in top3:\n",
    "        disease_name = e\n",
    "        medicines = m_di[e][:3]\n",
    "        final_results.append({\"disease_name\":disease_name,\n",
    "                                \"medicines\":medicines})\n",
    "    return final_results\n",
    "        "
   ]
  },
  {
   "cell_type": "code",
   "execution_count": 51,
   "id": "further-picture",
   "metadata": {},
   "outputs": [
    {
     "name": "stdout",
     "output_type": "stream",
     "text": [
      "final results : \n",
      "top 3 possibilities : \n",
      "{'disease_name': 'Dengue', 'medicines': ['Dengvaxia', 'Corticosteroids', 'corticosteroid']}\n",
      "{'disease_name': 'Malaria', 'medicines': ['Atovaquone / proguanil', 'Doxycycline', 'Coartem']}\n",
      "{'disease_name': '(vertigo) Paroymsal  Positional Vertigo', 'medicines': ['NA']}\n"
     ]
    }
   ],
   "source": [
    "print(\"final results : \")\n",
    "print(\"top 3 possibilities : \")\n",
    "res = get_final_result(test1)\n",
    "for e in res:\n",
    "    print(e)"
   ]
  },
  {
   "cell_type": "code",
   "execution_count": null,
   "id": "respiratory-gibraltar",
   "metadata": {},
   "outputs": [],
   "source": []
  }
 ],
 "metadata": {
  "kernelspec": {
   "display_name": "Python 3",
   "language": "python",
   "name": "python3"
  },
  "language_info": {
   "codemirror_mode": {
    "name": "ipython",
    "version": 3
   },
   "file_extension": ".py",
   "mimetype": "text/x-python",
   "name": "python",
   "nbconvert_exporter": "python",
   "pygments_lexer": "ipython3",
   "version": "3.6.8"
  }
 },
 "nbformat": 4,
 "nbformat_minor": 5
}
