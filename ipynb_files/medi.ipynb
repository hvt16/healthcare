{
 "cells": [
  {
   "cell_type": "code",
   "execution_count": 1,
   "id": "virtual-miami",
   "metadata": {},
   "outputs": [],
   "source": [
    "import pandas as pd"
   ]
  },
  {
   "cell_type": "code",
   "execution_count": 4,
   "id": "detailed-asian",
   "metadata": {},
   "outputs": [],
   "source": [
    "medi_pd = pd.read_csv('./medicines.csv', encoding='cp1252')\n",
    "# encoding=cp1252 to remove one utf-8 error"
   ]
  },
  {
   "cell_type": "code",
   "execution_count": 9,
   "id": "residential-treatment",
   "metadata": {},
   "outputs": [
    {
     "name": "stdout",
     "output_type": "stream",
     "text": [
      "True\n"
     ]
    }
   ],
   "source": [
    "disease = medi_pd['Therapeutic area']\n",
    "medicine_names = medi_pd['Medicine name']\n",
    "print(len(disease) == len(medicine_names))"
   ]
  },
  {
   "cell_type": "code",
   "execution_count": 28,
   "id": "involved-natural",
   "metadata": {},
   "outputs": [
    {
     "name": "stdout",
     "output_type": "stream",
     "text": [
      "625\n"
     ]
    }
   ],
   "source": [
    "di = {}\n",
    "for i in range(len(disease)):\n",
    "    if disease[i] != \"\" and disease[i] == disease[i]:\n",
    "        di[disease[i]] = di.get(disease[i],list())\n",
    "        di[disease[i]].append(medicine_names[i])\n",
    "print(len(di))"
   ]
  },
  {
   "cell_type": "code",
   "execution_count": 3,
   "id": "thousand-morris",
   "metadata": {},
   "outputs": [
    {
     "name": "stdout",
     "output_type": "stream",
     "text": [
      "41\n"
     ]
    }
   ],
   "source": [
    "disease_in_data = pd.read_csv(\"../datasets/archive/Training.csv\")[\"prognosis\"]\n",
    "disease_in_data = list(set(disease_in_data))\n",
    "print(len(disease_in_data))"
   ]
  },
  {
   "cell_type": "code",
   "execution_count": 38,
   "id": "formal-stream",
   "metadata": {},
   "outputs": [
    {
     "name": "stdout",
     "output_type": "stream",
     "text": [
      "25\n"
     ]
    }
   ],
   "source": [
    "s = set()\n",
    "dk = di.keys()\n",
    "new_di = {}\n",
    "for e in disease_in_data:\n",
    "    for f in dk:\n",
    "        es = e.split()\n",
    "        for ese in es:\n",
    "            if ese.lower() in f.lower():\n",
    "                new_di[e] = di[f]\n",
    "                \n",
    "print(len(new_di))\n",
    "# print(s)"
   ]
  },
  {
   "cell_type": "code",
   "execution_count": 39,
   "id": "built-number",
   "metadata": {},
   "outputs": [
    {
     "data": {
      "text/plain": [
       "{'Diabetes ': ['Lucentis'],\n",
       " 'Arthritis': ['Valdyn'],\n",
       " 'Urinary tract infection': ['Vitravene', 'Vitrasert Implant'],\n",
       " 'Cervical spondylosis': ['Gardasil', 'Silgard'],\n",
       " 'Malaria': ['Eurartesim'],\n",
       " 'Hepatitis C': ['Primavax'],\n",
       " 'Hypertension ': ['INOmax'],\n",
       " 'Alcoholic hepatitis': ['Primavax'],\n",
       " 'Impetigo': ['Altargo'],\n",
       " 'Peptic ulcer diseae': ['Regranex'],\n",
       " 'Hepatitis E': ['Primavax'],\n",
       " 'Fungal infection': ['Vitravene', 'Vitrasert Implant'],\n",
       " 'Hepatitis B': ['Primavax'],\n",
       " 'Drug Reaction': ['Ondexxya'],\n",
       " 'Chicken pox': ['Imvanex'],\n",
       " 'Bronchial Asthma': ['DuoResp Spiromax',\n",
       "  'BiResp Spiromax',\n",
       "  'Aerivio Spiromax',\n",
       "  'Airexar Spiromax',\n",
       "  'Budesonide/Formoterol Teva',\n",
       "  'Vylaer Spiromax'],\n",
       " 'Tuberculosis': ['Granupas (previously Para-aminosalicylic acid Lucane)'],\n",
       " 'Heart attack': ['Neparvis', 'Verquvo', 'Entresto', 'Reasanz'],\n",
       " 'Psoriasis': ['Solymbic'],\n",
       " 'Dengue': ['Dengvaxia'],\n",
       " 'Migraine': ['Aimovig', 'Emgality', 'Ajovy', 'Sumatriptan Galpharm'],\n",
       " 'Chronic cholestasis': ['Levviax'],\n",
       " 'Pneumonia': ['Levviax'],\n",
       " 'Hepatitis D': ['Primavax'],\n",
       " 'hepatitis A': ['Primavax']}"
      ]
     },
     "execution_count": 39,
     "metadata": {},
     "output_type": "execute_result"
    }
   ],
   "source": [
    "new_di"
   ]
  },
  {
   "cell_type": "code",
   "execution_count": 40,
   "id": "global-format",
   "metadata": {},
   "outputs": [],
   "source": [
    "m_di = {'Diabetes ': ['Lucentis'],\n",
    " 'Arthritis': ['Valdyn'],\n",
    " 'Urinary tract infection': ['Vitravene', 'Vitrasert Implant'],\n",
    " 'Cervical spondylosis': ['Gardasil', 'Silgard'],\n",
    " 'Malaria': ['Eurartesim'],\n",
    " 'Hepatitis C': ['Primavax'],\n",
    " 'Hypertension ': ['INOmax'],\n",
    " 'Alcoholic hepatitis': ['Primavax'],\n",
    " 'Impetigo': ['Altargo'],\n",
    " 'Peptic ulcer diseae': ['Regranex'],\n",
    " 'Hepatitis E': ['Primavax'],\n",
    " 'Fungal infection': ['Vitravene', 'Vitrasert Implant'],\n",
    " 'Hepatitis B': ['Primavax'],\n",
    " 'Drug Reaction': ['Ondexxya'],\n",
    " 'Chicken pox': ['Imvanex'],\n",
    " 'Bronchial Asthma': ['DuoResp Spiromax',\n",
    "  'BiResp Spiromax',\n",
    "  'Aerivio Spiromax',\n",
    "  'Airexar Spiromax',\n",
    "  'Budesonide/Formoterol Teva',\n",
    "  'Vylaer Spiromax'],\n",
    " 'Tuberculosis': ['Granupas (previously Para-aminosalicylic acid Lucane)'],\n",
    " 'Heart attack': ['Neparvis', 'Verquvo', 'Entresto', 'Reasanz'],\n",
    " 'Psoriasis': ['Solymbic'],\n",
    " 'Dengue': ['Dengvaxia'],\n",
    " 'Migraine': ['Aimovig', 'Emgality', 'Ajovy', 'Sumatriptan Galpharm'],\n",
    " 'Chronic cholestasis': ['Levviax'],\n",
    " 'Pneumonia': ['Levviax'],\n",
    " 'Hepatitis D': ['Primavax'],\n",
    " 'hepatitis A': ['Primavax']}"
   ]
  },
  {
   "cell_type": "code",
   "execution_count": 41,
   "id": "vocational-greek",
   "metadata": {},
   "outputs": [
    {
     "data": {
      "text/plain": [
       "{'Diabetes ': ['Lucentis'],\n",
       " 'Arthritis': ['Valdyn'],\n",
       " 'Urinary tract infection': ['Vitravene', 'Vitrasert Implant'],\n",
       " 'Cervical spondylosis': ['Gardasil', 'Silgard'],\n",
       " 'Malaria': ['Eurartesim'],\n",
       " 'Hepatitis C': ['Primavax'],\n",
       " 'Hypertension ': ['INOmax'],\n",
       " 'Alcoholic hepatitis': ['Primavax'],\n",
       " 'Impetigo': ['Altargo'],\n",
       " 'Peptic ulcer diseae': ['Regranex'],\n",
       " 'Hepatitis E': ['Primavax'],\n",
       " 'Fungal infection': ['Vitravene', 'Vitrasert Implant'],\n",
       " 'Hepatitis B': ['Primavax'],\n",
       " 'Drug Reaction': ['Ondexxya'],\n",
       " 'Chicken pox': ['Imvanex'],\n",
       " 'Bronchial Asthma': ['DuoResp Spiromax',\n",
       "  'BiResp Spiromax',\n",
       "  'Aerivio Spiromax',\n",
       "  'Airexar Spiromax',\n",
       "  'Budesonide/Formoterol Teva',\n",
       "  'Vylaer Spiromax'],\n",
       " 'Tuberculosis': ['Granupas (previously Para-aminosalicylic acid Lucane)'],\n",
       " 'Heart attack': ['Neparvis', 'Verquvo', 'Entresto', 'Reasanz'],\n",
       " 'Psoriasis': ['Solymbic'],\n",
       " 'Dengue': ['Dengvaxia'],\n",
       " 'Migraine': ['Aimovig', 'Emgality', 'Ajovy', 'Sumatriptan Galpharm'],\n",
       " 'Chronic cholestasis': ['Levviax'],\n",
       " 'Pneumonia': ['Levviax'],\n",
       " 'Hepatitis D': ['Primavax'],\n",
       " 'hepatitis A': ['Primavax']}"
      ]
     },
     "execution_count": 41,
     "metadata": {},
     "output_type": "execute_result"
    }
   ],
   "source": [
    "m_di"
   ]
  },
  {
   "cell_type": "markdown",
   "id": "bridal-premium",
   "metadata": {},
   "source": [
    "# exploring new dataset for medicines"
   ]
  },
  {
   "cell_type": "code",
   "execution_count": 4,
   "id": "anonymous-level",
   "metadata": {},
   "outputs": [],
   "source": [
    "dataset = pd.read_csv('../datasets/chemicals.csv')"
   ]
  },
  {
   "cell_type": "code",
   "execution_count": 5,
   "id": "labeled-dayton",
   "metadata": {},
   "outputs": [
    {
     "data": {
      "text/html": [
       "<div>\n",
       "<style scoped>\n",
       "    .dataframe tbody tr th:only-of-type {\n",
       "        vertical-align: middle;\n",
       "    }\n",
       "\n",
       "    .dataframe tbody tr th {\n",
       "        vertical-align: top;\n",
       "    }\n",
       "\n",
       "    .dataframe thead th {\n",
       "        text-align: right;\n",
       "    }\n",
       "</style>\n",
       "<table border=\"1\" class=\"dataframe\">\n",
       "  <thead>\n",
       "    <tr style=\"text-align: right;\">\n",
       "      <th></th>\n",
       "      <th>chemical_name</th>\n",
       "      <th>disease_name</th>\n",
       "    </tr>\n",
       "  </thead>\n",
       "  <tbody>\n",
       "    <tr>\n",
       "      <th>0</th>\n",
       "      <td>5-HT</td>\n",
       "      <td>psychotic disorders</td>\n",
       "    </tr>\n",
       "    <tr>\n",
       "      <th>1</th>\n",
       "      <td>D-penicillamine</td>\n",
       "      <td>localized scleroderma</td>\n",
       "    </tr>\n",
       "    <tr>\n",
       "      <th>2</th>\n",
       "      <td>yohimbine</td>\n",
       "      <td>affective disorders</td>\n",
       "    </tr>\n",
       "    <tr>\n",
       "      <th>3</th>\n",
       "      <td>calcium</td>\n",
       "      <td>muscle spasms</td>\n",
       "    </tr>\n",
       "    <tr>\n",
       "      <th>4</th>\n",
       "      <td>dexrazoxane</td>\n",
       "      <td>hematologic toxicity</td>\n",
       "    </tr>\n",
       "  </tbody>\n",
       "</table>\n",
       "</div>"
      ],
      "text/plain": [
       "     chemical_name           disease_name\n",
       "0             5-HT    psychotic disorders\n",
       "1  D-penicillamine  localized scleroderma\n",
       "2        yohimbine    affective disorders\n",
       "3          calcium          muscle spasms\n",
       "4      dexrazoxane   hematologic toxicity"
      ]
     },
     "execution_count": 5,
     "metadata": {},
     "output_type": "execute_result"
    }
   ],
   "source": [
    "dataset.head()"
   ]
  },
  {
   "cell_type": "code",
   "execution_count": 18,
   "id": "minor-challenge",
   "metadata": {},
   "outputs": [
    {
     "data": {
      "text/plain": [
       "['daunorubicin',\n",
       " 'AZT',\n",
       " 'zidovudine',\n",
       " 'neopterin',\n",
       " 'furazolidone',\n",
       " 'nevirapine/NVP',\n",
       " 'EFV/efavirenz',\n",
       " 'abacavir',\n",
       " 'saquinavir',\n",
       " 'nelfinavir',\n",
       " 'ritonavir/RTV',\n",
       " 'NVP',\n",
       " 'RTV']"
      ]
     },
     "execution_count": 18,
     "metadata": {},
     "output_type": "execute_result"
    }
   ],
   "source": [
    "di = {}\n",
    "chemicals = dataset[\"chemical_name\"]\n",
    "disease = dataset[\"disease_name\"]\n",
    "for i in range(len(chemicals)):\n",
    "    di[disease[i]] = di.get(disease[i], list())\n",
    "    if chemicals[i] not in di[disease[i]]:\n",
    "        di[disease[i]].append(chemicals[i])\n",
    "di[\"AIDS\"]"
   ]
  },
  {
   "cell_type": "code",
   "execution_count": 6,
   "id": "neural-aviation",
   "metadata": {},
   "outputs": [
    {
     "name": "stdout",
     "output_type": "stream",
     "text": [
      "41\n"
     ]
    }
   ],
   "source": [
    "# training dataset for diseases\n",
    "disease_in_data = pd.read_csv(\"../datasets/archive/Training.csv\")[\"prognosis\"]\n",
    "disease_in_data = list(set(disease_in_data))\n",
    "print(len(disease_in_data))"
   ]
  },
  {
   "cell_type": "code",
   "execution_count": 7,
   "id": "answering-smooth",
   "metadata": {},
   "outputs": [
    {
     "ename": "NameError",
     "evalue": "name 'di' is not defined",
     "output_type": "error",
     "traceback": [
      "\u001b[1;31m---------------------------------------------------------------------------\u001b[0m",
      "\u001b[1;31mNameError\u001b[0m                                 Traceback (most recent call last)",
      "\u001b[1;32m<ipython-input-7-ed7abb2d009c>\u001b[0m in \u001b[0;36m<module>\u001b[1;34m\u001b[0m\n\u001b[0;32m      1\u001b[0m \u001b[0ms\u001b[0m \u001b[1;33m=\u001b[0m \u001b[0mset\u001b[0m\u001b[1;33m(\u001b[0m\u001b[1;33m)\u001b[0m\u001b[1;33m\u001b[0m\u001b[1;33m\u001b[0m\u001b[0m\n\u001b[0;32m      2\u001b[0m \u001b[1;32mfor\u001b[0m \u001b[0me\u001b[0m \u001b[1;32min\u001b[0m \u001b[0mdisease_in_data\u001b[0m\u001b[1;33m:\u001b[0m\u001b[1;33m\u001b[0m\u001b[1;33m\u001b[0m\u001b[0m\n\u001b[1;32m----> 3\u001b[1;33m     \u001b[1;32mfor\u001b[0m \u001b[0mf\u001b[0m \u001b[1;32min\u001b[0m \u001b[0mdi\u001b[0m\u001b[1;33m.\u001b[0m\u001b[0mkeys\u001b[0m\u001b[1;33m(\u001b[0m\u001b[1;33m)\u001b[0m\u001b[1;33m:\u001b[0m\u001b[1;33m\u001b[0m\u001b[1;33m\u001b[0m\u001b[0m\n\u001b[0m\u001b[0;32m      4\u001b[0m         \u001b[1;32mif\u001b[0m \u001b[0me\u001b[0m\u001b[1;33m.\u001b[0m\u001b[0mlower\u001b[0m\u001b[1;33m(\u001b[0m\u001b[1;33m)\u001b[0m \u001b[1;32min\u001b[0m \u001b[0mf\u001b[0m\u001b[1;33m.\u001b[0m\u001b[0mlower\u001b[0m\u001b[1;33m(\u001b[0m\u001b[1;33m)\u001b[0m\u001b[1;33m:\u001b[0m\u001b[1;33m\u001b[0m\u001b[1;33m\u001b[0m\u001b[0m\n\u001b[0;32m      5\u001b[0m \u001b[1;31m#             print(e,f)\u001b[0m\u001b[1;33m\u001b[0m\u001b[1;33m\u001b[0m\u001b[1;33m\u001b[0m\u001b[0m\n",
      "\u001b[1;31mNameError\u001b[0m: name 'di' is not defined"
     ]
    }
   ],
   "source": [
    "s = set()\n",
    "for e in disease_in_data:\n",
    "    for f in di.keys():\n",
    "        if e.lower() in f.lower():\n",
    "#             print(e,f)\n",
    "            s.add(e)\n",
    "# len(s)\n",
    "print(s, len(s))"
   ]
  },
  {
   "cell_type": "code",
   "execution_count": 16,
   "id": "spiritual-grain",
   "metadata": {},
   "outputs": [
    {
     "data": {
      "text/plain": [
       "25"
      ]
     },
     "execution_count": 16,
     "metadata": {},
     "output_type": "execute_result"
    }
   ],
   "source": [
    "# medicines in prev dataset\n",
    "m_di = {'Diabetes ': ['Lucentis'],\n",
    " 'Arthritis': ['Valdyn'],\n",
    " 'Urinary tract infection': ['Vitravene', 'Vitrasert Implant'],\n",
    " 'Cervical spondylosis': ['Gardasil', 'Silgard'],\n",
    " 'Malaria': ['Eurartesim'],\n",
    " 'Hepatitis C': ['Primavax'],\n",
    " 'Hypertension ': ['INOmax'],\n",
    " 'Alcoholic hepatitis': ['Primavax'],\n",
    " 'Impetigo': ['Altargo'],\n",
    " 'Peptic ulcer diseae': ['Regranex'],\n",
    " 'Hepatitis E': ['Primavax'],\n",
    " 'Fungal infection': ['Vitravene', 'Vitrasert Implant'],\n",
    " 'Hepatitis B': ['Primavax'],\n",
    " 'Drug Reaction': ['Ondexxya'],\n",
    " 'Chicken pox': ['Imvanex'],\n",
    " 'Bronchial Asthma': ['DuoResp Spiromax',\n",
    "  'BiResp Spiromax',\n",
    "  'Aerivio Spiromax',\n",
    "  'Airexar Spiromax',\n",
    "  'Budesonide/Formoterol Teva',\n",
    "  'Vylaer Spiromax'],\n",
    " 'Tuberculosis': ['Granupas (previously Para-aminosalicylic acid Lucane)'],\n",
    " 'Heart attack': ['Neparvis', 'Verquvo', 'Entresto', 'Reasanz'],\n",
    " 'Psoriasis': ['Solymbic'],\n",
    " 'Dengue': ['Dengvaxia'],\n",
    " 'Migraine': ['Aimovig', 'Emgality', 'Ajovy', 'Sumatriptan Galpharm'],\n",
    " 'Chronic cholestasis': ['Levviax'],\n",
    " 'Pneumonia': ['Levviax'],\n",
    " 'Hepatitis D': ['Primavax'],\n",
    " 'hepatitis A': ['Primavax']}\n",
    "len(m_di)"
   ]
  },
  {
   "cell_type": "code",
   "execution_count": 9,
   "id": "touched-brazilian",
   "metadata": {},
   "outputs": [
    {
     "name": "stdout",
     "output_type": "stream",
     "text": [
      "{'hepatitis A', 'Cervical spondylosis', 'Drug Reaction', 'Malaria', 'Pneumonia', 'Tuberculosis', 'Impetigo', 'Migraine', 'Psoriasis', 'Hepatitis C', 'Bronchial Asthma', 'Hypertension ', 'Diabetes ', 'Peptic ulcer diseae', 'Fungal infection', 'Urinary tract infection', 'Heart attack', 'Chronic cholestasis', 'Arthritis', 'Dengue', 'Hepatitis B', 'Hepatitis D', 'Chicken pox', 'Hepatitis E', 'Alcoholic hepatitis'} 25\n"
     ]
    }
   ],
   "source": [
    "prev_set = set(m_di.keys())\n",
    "print(prev_set, len(prev_set))"
   ]
  },
  {
   "cell_type": "code",
   "execution_count": 10,
   "id": "alternative-vermont",
   "metadata": {},
   "outputs": [
    {
     "name": "stdout",
     "output_type": "stream",
     "text": [
      "set() 0\n"
     ]
    }
   ],
   "source": [
    "# intersection\n",
    "intersection = s.intersection(prev_set)\n",
    "print(intersection, len(intersection))"
   ]
  },
  {
   "cell_type": "code",
   "execution_count": 11,
   "id": "absolute-polls",
   "metadata": {},
   "outputs": [
    {
     "name": "stdout",
     "output_type": "stream",
     "text": [
      "set() 0\n"
     ]
    }
   ],
   "source": [
    "# difference\n",
    "difference = s.difference(prev_set)\n",
    "print(difference, len(difference))"
   ]
  },
  {
   "cell_type": "code",
   "execution_count": 17,
   "id": "surgical-vacation",
   "metadata": {},
   "outputs": [
    {
     "ename": "NameError",
     "evalue": "name 'di' is not defined",
     "output_type": "error",
     "traceback": [
      "\u001b[1;31m---------------------------------------------------------------------------\u001b[0m",
      "\u001b[1;31mNameError\u001b[0m                                 Traceback (most recent call last)",
      "\u001b[1;32m<ipython-input-17-85192257f8b4>\u001b[0m in \u001b[0;36m<module>\u001b[1;34m\u001b[0m\n\u001b[0;32m      1\u001b[0m \u001b[0mtype\u001b[0m\u001b[1;33m(\u001b[0m\u001b[0mm_di\u001b[0m\u001b[1;33m)\u001b[0m\u001b[1;33m\u001b[0m\u001b[1;33m\u001b[0m\u001b[0m\n\u001b[0;32m      2\u001b[0m \u001b[1;32mfor\u001b[0m \u001b[0me\u001b[0m \u001b[1;32min\u001b[0m \u001b[0mdisease_in_data\u001b[0m\u001b[1;33m:\u001b[0m\u001b[1;33m\u001b[0m\u001b[1;33m\u001b[0m\u001b[0m\n\u001b[1;32m----> 3\u001b[1;33m     \u001b[1;32mfor\u001b[0m \u001b[0mf\u001b[0m \u001b[1;32min\u001b[0m \u001b[0mdi\u001b[0m\u001b[1;33m.\u001b[0m\u001b[0mkeys\u001b[0m\u001b[1;33m(\u001b[0m\u001b[1;33m)\u001b[0m\u001b[1;33m:\u001b[0m\u001b[1;33m\u001b[0m\u001b[1;33m\u001b[0m\u001b[0m\n\u001b[0m\u001b[0;32m      4\u001b[0m         \u001b[1;32mif\u001b[0m \u001b[0me\u001b[0m\u001b[1;33m.\u001b[0m\u001b[0mlower\u001b[0m\u001b[1;33m(\u001b[0m\u001b[1;33m)\u001b[0m \u001b[1;32min\u001b[0m \u001b[0mf\u001b[0m\u001b[1;33m.\u001b[0m\u001b[0mlower\u001b[0m\u001b[1;33m(\u001b[0m\u001b[1;33m)\u001b[0m\u001b[1;33m:\u001b[0m\u001b[1;33m\u001b[0m\u001b[1;33m\u001b[0m\u001b[0m\n\u001b[0;32m      5\u001b[0m             \u001b[0mdi\u001b[0m\u001b[1;33m[\u001b[0m\u001b[0me\u001b[0m\u001b[1;33m]\u001b[0m \u001b[1;33m=\u001b[0m \u001b[0mdi\u001b[0m\u001b[1;33m[\u001b[0m\u001b[0mf\u001b[0m\u001b[1;33m]\u001b[0m\u001b[1;33m\u001b[0m\u001b[1;33m\u001b[0m\u001b[0m\n",
      "\u001b[1;31mNameError\u001b[0m: name 'di' is not defined"
     ]
    }
   ],
   "source": [
    "type(m_di)\n",
    "for e in disease_in_data:\n",
    "    for f in di.keys():\n",
    "        if e.lower() in f.lower():\n",
    "            di[e] = di[f]"
   ]
  },
  {
   "cell_type": "code",
   "execution_count": 13,
   "id": "integral-franchise",
   "metadata": {},
   "outputs": [],
   "source": [
    "for e in difference:\n",
    "    if e in di:\n",
    "        m_di[e] = di[e]"
   ]
  },
  {
   "cell_type": "code",
   "execution_count": 14,
   "id": "promising-criminal",
   "metadata": {},
   "outputs": [
    {
     "name": "stdout",
     "output_type": "stream",
     "text": [
      "{'Diabetes ': ['Lucentis'], 'Arthritis': ['Valdyn'], 'Urinary tract infection': ['Vitravene', 'Vitrasert Implant'], 'Cervical spondylosis': ['Gardasil', 'Silgard'], 'Malaria': ['Eurartesim'], 'Hepatitis C': ['Primavax'], 'Hypertension ': ['INOmax'], 'Alcoholic hepatitis': ['Primavax'], 'Impetigo': ['Altargo'], 'Peptic ulcer diseae': ['Regranex'], 'Hepatitis E': ['Primavax'], 'Fungal infection': ['Vitravene', 'Vitrasert Implant'], 'Hepatitis B': ['Primavax'], 'Drug Reaction': ['Ondexxya'], 'Chicken pox': ['Imvanex'], 'Bronchial Asthma': ['DuoResp Spiromax', 'BiResp Spiromax', 'Aerivio Spiromax', 'Airexar Spiromax', 'Budesonide/Formoterol Teva', 'Vylaer Spiromax'], 'Tuberculosis': ['Granupas (previously Para-aminosalicylic acid Lucane)'], 'Heart attack': ['Neparvis', 'Verquvo', 'Entresto', 'Reasanz'], 'Psoriasis': ['Solymbic'], 'Dengue': ['Dengvaxia'], 'Migraine': ['Aimovig', 'Emgality', 'Ajovy', 'Sumatriptan Galpharm'], 'Chronic cholestasis': ['Levviax'], 'Pneumonia': ['Levviax'], 'Hepatitis D': ['Primavax'], 'hepatitis A': ['Primavax']}\n",
      "25\n"
     ]
    }
   ],
   "source": [
    "print(m_di)\n",
    "print(len(m_di))"
   ]
  },
  {
   "cell_type": "code",
   "execution_count": 15,
   "id": "curious-testament",
   "metadata": {},
   "outputs": [
    {
     "data": {
      "text/plain": [
       "0"
      ]
     },
     "execution_count": 15,
     "metadata": {},
     "output_type": "execute_result"
    }
   ],
   "source": [
    "count = 0\n",
    "for e in s:\n",
    "    if e not in prev_set:\n",
    "        count += 1\n",
    "count"
   ]
  },
  {
   "cell_type": "code",
   "execution_count": null,
   "id": "controlling-enzyme",
   "metadata": {},
   "outputs": [],
   "source": []
  }
 ],
 "metadata": {
  "kernelspec": {
   "display_name": "Python 3",
   "language": "python",
   "name": "python3"
  },
  "language_info": {
   "codemirror_mode": {
    "name": "ipython",
    "version": 3
   },
   "file_extension": ".py",
   "mimetype": "text/x-python",
   "name": "python",
   "nbconvert_exporter": "python",
   "pygments_lexer": "ipython3",
   "version": "3.6.8"
  }
 },
 "nbformat": 4,
 "nbformat_minor": 5
}
