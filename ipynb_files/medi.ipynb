{
 "cells": [
  {
   "cell_type": "code",
   "execution_count": 1,
   "id": "virtual-miami",
   "metadata": {},
   "outputs": [],
   "source": [
    "import pandas as pd"
   ]
  },
  {
   "cell_type": "code",
   "execution_count": 4,
   "id": "detailed-asian",
   "metadata": {},
   "outputs": [],
   "source": [
    "medi_pd = pd.read_csv('./medicines.csv', encoding='cp1252')\n",
    "# encoding=cp1252 to remove one utf-8 error"
   ]
  },
  {
   "cell_type": "code",
   "execution_count": 5,
   "id": "apart-nowhere",
   "metadata": {},
   "outputs": [
    {
     "data": {
      "text/html": [
       "<div>\n",
       "<style scoped>\n",
       "    .dataframe tbody tr th:only-of-type {\n",
       "        vertical-align: middle;\n",
       "    }\n",
       "\n",
       "    .dataframe tbody tr th {\n",
       "        vertical-align: top;\n",
       "    }\n",
       "\n",
       "    .dataframe thead th {\n",
       "        text-align: right;\n",
       "    }\n",
       "</style>\n",
       "<table border=\"1\" class=\"dataframe\">\n",
       "  <thead>\n",
       "    <tr style=\"text-align: right;\">\n",
       "      <th></th>\n",
       "      <th>Category</th>\n",
       "      <th>Medicine name</th>\n",
       "      <th>Therapeutic area</th>\n",
       "      <th>International non-proprietary name (INN) / common name</th>\n",
       "      <th>Active substance</th>\n",
       "      <th>Product number</th>\n",
       "      <th>Patient safety</th>\n",
       "      <th>Authorisation status</th>\n",
       "      <th>ATC code</th>\n",
       "      <th>Additional monitoring</th>\n",
       "      <th>...</th>\n",
       "      <th>Vet pharmacotherapeutic group</th>\n",
       "      <th>Date of opinion</th>\n",
       "      <th>Decision date</th>\n",
       "      <th>Revision number</th>\n",
       "      <th>Condition / indication</th>\n",
       "      <th>Species</th>\n",
       "      <th>ATCvet code</th>\n",
       "      <th>First published</th>\n",
       "      <th>Revision date</th>\n",
       "      <th>URL</th>\n",
       "    </tr>\n",
       "  </thead>\n",
       "  <tbody>\n",
       "    <tr>\n",
       "      <th>0</th>\n",
       "      <td>Human</td>\n",
       "      <td>Kalydeco</td>\n",
       "      <td>Cystic Fibrosis</td>\n",
       "      <td>ivacaftor</td>\n",
       "      <td>ivacaftor</td>\n",
       "      <td>EMEA/H/C/002494</td>\n",
       "      <td>no</td>\n",
       "      <td>Authorised</td>\n",
       "      <td>R07AX02</td>\n",
       "      <td>no</td>\n",
       "      <td>...</td>\n",
       "      <td>NaN</td>\n",
       "      <td>24/05/2012</td>\n",
       "      <td>14/10/2021</td>\n",
       "      <td>29.0</td>\n",
       "      <td>Kalydeco tablets are indicated:As monotherapy ...</td>\n",
       "      <td>NaN</td>\n",
       "      <td>NaN</td>\n",
       "      <td>8/09/2017</td>\n",
       "      <td>15/11/2021</td>\n",
       "      <td>https://www.ema.europa.eu/en/medicines/human/E...</td>\n",
       "    </tr>\n",
       "    <tr>\n",
       "      <th>1</th>\n",
       "      <td>Human</td>\n",
       "      <td>Kaftrio</td>\n",
       "      <td>Cystic Fibrosis</td>\n",
       "      <td>ivacaftor, tezacaftor, elexacaftor</td>\n",
       "      <td>ivacaftor, tezacaftor, elexacaftor</td>\n",
       "      <td>EMEA/H/C/005269</td>\n",
       "      <td>no</td>\n",
       "      <td>Authorised</td>\n",
       "      <td>R07AX</td>\n",
       "      <td>yes</td>\n",
       "      <td>...</td>\n",
       "      <td>NaN</td>\n",
       "      <td>25/06/2020</td>\n",
       "      <td>14/10/2021</td>\n",
       "      <td>4.0</td>\n",
       "      <td>Kaftrio is indicated in a combination regimen ...</td>\n",
       "      <td>NaN</td>\n",
       "      <td>NaN</td>\n",
       "      <td>21/08/2020</td>\n",
       "      <td>15/11/2021</td>\n",
       "      <td>https://www.ema.europa.eu/en/medicines/human/E...</td>\n",
       "    </tr>\n",
       "    <tr>\n",
       "      <th>2</th>\n",
       "      <td>Human</td>\n",
       "      <td>Comirnaty</td>\n",
       "      <td>COVID-19 virus infection</td>\n",
       "      <td>Tozinameran, COVID-19 mRNA Vaccine (nucleoside...</td>\n",
       "      <td>Single-stranded, 5’-capped messenger RNA produ...</td>\n",
       "      <td>EMEA/H/C/005735</td>\n",
       "      <td>no</td>\n",
       "      <td>Authorised</td>\n",
       "      <td>J07BX</td>\n",
       "      <td>yes</td>\n",
       "      <td>...</td>\n",
       "      <td>NaN</td>\n",
       "      <td>21/12/2020</td>\n",
       "      <td>3/11/2021</td>\n",
       "      <td>14.0</td>\n",
       "      <td>Active immunization against COVID-19 disease</td>\n",
       "      <td>NaN</td>\n",
       "      <td>NaN</td>\n",
       "      <td>23/12/2020</td>\n",
       "      <td>15/11/2021</td>\n",
       "      <td>https://www.ema.europa.eu/en/medicines/human/E...</td>\n",
       "    </tr>\n",
       "    <tr>\n",
       "      <th>3</th>\n",
       "      <td>Human</td>\n",
       "      <td>Spikevax (previously COVID-19 Vaccine Moderna)</td>\n",
       "      <td>COVID-19 virus infection</td>\n",
       "      <td>COVID-19 mRNA Vaccine (nucleoside modified)</td>\n",
       "      <td>CX-024414 (single-stranded, 5’-capped messenge...</td>\n",
       "      <td>EMEA/H/C/005791</td>\n",
       "      <td>no</td>\n",
       "      <td>Authorised</td>\n",
       "      <td>J07BX03</td>\n",
       "      <td>yes</td>\n",
       "      <td>...</td>\n",
       "      <td>NaN</td>\n",
       "      <td>4/01/2021</td>\n",
       "      <td>11/11/2021</td>\n",
       "      <td>16.0</td>\n",
       "      <td>Spikevax is indicated for active immunisation ...</td>\n",
       "      <td>NaN</td>\n",
       "      <td>NaN</td>\n",
       "      <td>20/01/2021</td>\n",
       "      <td>15/11/2021</td>\n",
       "      <td>https://www.ema.europa.eu/en/medicines/human/E...</td>\n",
       "    </tr>\n",
       "    <tr>\n",
       "      <th>4</th>\n",
       "      <td>Human</td>\n",
       "      <td>Exforge HCT</td>\n",
       "      <td>Hypertension</td>\n",
       "      <td>amlodipine besilate, valsartan, hydrochlorothi...</td>\n",
       "      <td>valsartan, hydrochlorothiazide, Amlodipine bes...</td>\n",
       "      <td>EMEA/H/C/001068</td>\n",
       "      <td>no</td>\n",
       "      <td>Authorised</td>\n",
       "      <td>C09DX01</td>\n",
       "      <td>no</td>\n",
       "      <td>...</td>\n",
       "      <td>NaN</td>\n",
       "      <td>NaN</td>\n",
       "      <td>2/09/2021</td>\n",
       "      <td>19.0</td>\n",
       "      <td>Treatment of essential hypertension as substit...</td>\n",
       "      <td>NaN</td>\n",
       "      <td>NaN</td>\n",
       "      <td>7/06/2018</td>\n",
       "      <td>12/11/2021</td>\n",
       "      <td>https://www.ema.europa.eu/en/medicines/human/E...</td>\n",
       "    </tr>\n",
       "  </tbody>\n",
       "</table>\n",
       "<p>5 rows × 30 columns</p>\n",
       "</div>"
      ],
      "text/plain": [
       "  Category                                   Medicine name  \\\n",
       "0    Human                                        Kalydeco   \n",
       "1    Human                                         Kaftrio   \n",
       "2    Human                                       Comirnaty   \n",
       "3    Human  Spikevax (previously COVID-19 Vaccine Moderna)   \n",
       "4    Human                                     Exforge HCT   \n",
       "\n",
       "           Therapeutic area  \\\n",
       "0           Cystic Fibrosis   \n",
       "1           Cystic Fibrosis   \n",
       "2  COVID-19 virus infection   \n",
       "3  COVID-19 virus infection   \n",
       "4              Hypertension   \n",
       "\n",
       "  International non-proprietary name (INN) / common name  \\\n",
       "0                                          ivacaftor       \n",
       "1                 ivacaftor, tezacaftor, elexacaftor       \n",
       "2  Tozinameran, COVID-19 mRNA Vaccine (nucleoside...       \n",
       "3        COVID-19 mRNA Vaccine (nucleoside modified)       \n",
       "4  amlodipine besilate, valsartan, hydrochlorothi...       \n",
       "\n",
       "                                    Active substance   Product number  \\\n",
       "0                                          ivacaftor  EMEA/H/C/002494   \n",
       "1                 ivacaftor, tezacaftor, elexacaftor  EMEA/H/C/005269   \n",
       "2  Single-stranded, 5’-capped messenger RNA produ...  EMEA/H/C/005735   \n",
       "3  CX-024414 (single-stranded, 5’-capped messenge...  EMEA/H/C/005791   \n",
       "4  valsartan, hydrochlorothiazide, Amlodipine bes...  EMEA/H/C/001068   \n",
       "\n",
       "  Patient safety Authorisation status ATC code Additional monitoring  ...  \\\n",
       "0             no           Authorised  R07AX02                    no  ...   \n",
       "1             no           Authorised    R07AX                   yes  ...   \n",
       "2             no           Authorised    J07BX                   yes  ...   \n",
       "3             no           Authorised  J07BX03                   yes  ...   \n",
       "4             no           Authorised  C09DX01                    no  ...   \n",
       "\n",
       "  Vet pharmacotherapeutic group Date of opinion Decision date Revision number  \\\n",
       "0                           NaN      24/05/2012    14/10/2021            29.0   \n",
       "1                           NaN      25/06/2020    14/10/2021             4.0   \n",
       "2                           NaN      21/12/2020     3/11/2021            14.0   \n",
       "3                           NaN       4/01/2021    11/11/2021            16.0   \n",
       "4                           NaN             NaN     2/09/2021            19.0   \n",
       "\n",
       "                              Condition / indication Species ATCvet code  \\\n",
       "0  Kalydeco tablets are indicated:As monotherapy ...     NaN         NaN   \n",
       "1  Kaftrio is indicated in a combination regimen ...     NaN         NaN   \n",
       "2       Active immunization against COVID-19 disease     NaN         NaN   \n",
       "3  Spikevax is indicated for active immunisation ...     NaN         NaN   \n",
       "4  Treatment of essential hypertension as substit...     NaN         NaN   \n",
       "\n",
       "  First published Revision date  \\\n",
       "0       8/09/2017    15/11/2021   \n",
       "1      21/08/2020    15/11/2021   \n",
       "2      23/12/2020    15/11/2021   \n",
       "3      20/01/2021    15/11/2021   \n",
       "4       7/06/2018    12/11/2021   \n",
       "\n",
       "                                                 URL  \n",
       "0  https://www.ema.europa.eu/en/medicines/human/E...  \n",
       "1  https://www.ema.europa.eu/en/medicines/human/E...  \n",
       "2  https://www.ema.europa.eu/en/medicines/human/E...  \n",
       "3  https://www.ema.europa.eu/en/medicines/human/E...  \n",
       "4  https://www.ema.europa.eu/en/medicines/human/E...  \n",
       "\n",
       "[5 rows x 30 columns]"
      ]
     },
     "execution_count": 5,
     "metadata": {},
     "output_type": "execute_result"
    }
   ],
   "source": [
    "medi_pd.head()"
   ]
  },
  {
   "cell_type": "code",
   "execution_count": 9,
   "id": "residential-treatment",
   "metadata": {},
   "outputs": [
    {
     "name": "stdout",
     "output_type": "stream",
     "text": [
      "True\n"
     ]
    }
   ],
   "source": [
    "disease = medi_pd['Therapeutic area']\n",
    "medicine_names = medi_pd['Medicine name']\n",
    "print(len(disease) == len(medicine_names))"
   ]
  },
  {
   "cell_type": "code",
   "execution_count": 28,
   "id": "involved-natural",
   "metadata": {},
   "outputs": [
    {
     "name": "stdout",
     "output_type": "stream",
     "text": [
      "625\n"
     ]
    }
   ],
   "source": [
    "di = {}\n",
    "for i in range(len(disease)):\n",
    "    if disease[i] != \"\" and disease[i] == disease[i]:\n",
    "        di[disease[i]] = di.get(disease[i],list())\n",
    "        di[disease[i]].append(medicine_names[i])\n",
    "print(len(di))"
   ]
  },
  {
   "cell_type": "code",
   "execution_count": 13,
   "id": "thousand-morris",
   "metadata": {},
   "outputs": [
    {
     "ename": "FileNotFoundError",
     "evalue": "[Errno 2] No such file or directory: './datasets/archive/Training.csv'",
     "output_type": "error",
     "traceback": [
      "\u001b[1;31m---------------------------------------------------------------------------\u001b[0m",
      "\u001b[1;31mFileNotFoundError\u001b[0m                         Traceback (most recent call last)",
      "\u001b[1;32m<ipython-input-13-56ef541cdae3>\u001b[0m in \u001b[0;36m<module>\u001b[1;34m\u001b[0m\n\u001b[1;32m----> 1\u001b[1;33m \u001b[0mdisease_in_data\u001b[0m \u001b[1;33m=\u001b[0m \u001b[0mpd\u001b[0m\u001b[1;33m.\u001b[0m\u001b[0mread_csv\u001b[0m\u001b[1;33m(\u001b[0m\u001b[1;34m\"./datasets/archive/Training.csv\"\u001b[0m\u001b[1;33m)\u001b[0m\u001b[1;33m[\u001b[0m\u001b[1;34m\"prognosis\"\u001b[0m\u001b[1;33m]\u001b[0m\u001b[1;33m\u001b[0m\u001b[1;33m\u001b[0m\u001b[0m\n\u001b[0m\u001b[0;32m      2\u001b[0m \u001b[0mdisease_in_data\u001b[0m \u001b[1;33m=\u001b[0m \u001b[0mlist\u001b[0m\u001b[1;33m(\u001b[0m\u001b[0mset\u001b[0m\u001b[1;33m(\u001b[0m\u001b[0mdisease_in_data\u001b[0m\u001b[1;33m)\u001b[0m\u001b[1;33m)\u001b[0m\u001b[1;33m\u001b[0m\u001b[1;33m\u001b[0m\u001b[0m\n\u001b[0;32m      3\u001b[0m \u001b[0mprint\u001b[0m\u001b[1;33m(\u001b[0m\u001b[0mlen\u001b[0m\u001b[1;33m(\u001b[0m\u001b[0mdisease_in_data\u001b[0m\u001b[1;33m)\u001b[0m\u001b[1;33m)\u001b[0m\u001b[1;33m\u001b[0m\u001b[1;33m\u001b[0m\u001b[0m\n",
      "\u001b[1;32mc:\\users\\harsh\\appdata\\local\\programs\\python\\python36\\lib\\site-packages\\pandas\\io\\parsers.py\u001b[0m in \u001b[0;36mread_csv\u001b[1;34m(filepath_or_buffer, sep, delimiter, header, names, index_col, usecols, squeeze, prefix, mangle_dupe_cols, dtype, engine, converters, true_values, false_values, skipinitialspace, skiprows, skipfooter, nrows, na_values, keep_default_na, na_filter, verbose, skip_blank_lines, parse_dates, infer_datetime_format, keep_date_col, date_parser, dayfirst, cache_dates, iterator, chunksize, compression, thousands, decimal, lineterminator, quotechar, quoting, doublequote, escapechar, comment, encoding, dialect, error_bad_lines, warn_bad_lines, delim_whitespace, low_memory, memory_map, float_precision)\u001b[0m\n\u001b[0;32m    686\u001b[0m     )\n\u001b[0;32m    687\u001b[0m \u001b[1;33m\u001b[0m\u001b[0m\n\u001b[1;32m--> 688\u001b[1;33m     \u001b[1;32mreturn\u001b[0m \u001b[0m_read\u001b[0m\u001b[1;33m(\u001b[0m\u001b[0mfilepath_or_buffer\u001b[0m\u001b[1;33m,\u001b[0m \u001b[0mkwds\u001b[0m\u001b[1;33m)\u001b[0m\u001b[1;33m\u001b[0m\u001b[1;33m\u001b[0m\u001b[0m\n\u001b[0m\u001b[0;32m    689\u001b[0m \u001b[1;33m\u001b[0m\u001b[0m\n\u001b[0;32m    690\u001b[0m \u001b[1;33m\u001b[0m\u001b[0m\n",
      "\u001b[1;32mc:\\users\\harsh\\appdata\\local\\programs\\python\\python36\\lib\\site-packages\\pandas\\io\\parsers.py\u001b[0m in \u001b[0;36m_read\u001b[1;34m(filepath_or_buffer, kwds)\u001b[0m\n\u001b[0;32m    452\u001b[0m \u001b[1;33m\u001b[0m\u001b[0m\n\u001b[0;32m    453\u001b[0m     \u001b[1;31m# Create the parser.\u001b[0m\u001b[1;33m\u001b[0m\u001b[1;33m\u001b[0m\u001b[1;33m\u001b[0m\u001b[0m\n\u001b[1;32m--> 454\u001b[1;33m     \u001b[0mparser\u001b[0m \u001b[1;33m=\u001b[0m \u001b[0mTextFileReader\u001b[0m\u001b[1;33m(\u001b[0m\u001b[0mfp_or_buf\u001b[0m\u001b[1;33m,\u001b[0m \u001b[1;33m**\u001b[0m\u001b[0mkwds\u001b[0m\u001b[1;33m)\u001b[0m\u001b[1;33m\u001b[0m\u001b[1;33m\u001b[0m\u001b[0m\n\u001b[0m\u001b[0;32m    455\u001b[0m \u001b[1;33m\u001b[0m\u001b[0m\n\u001b[0;32m    456\u001b[0m     \u001b[1;32mif\u001b[0m \u001b[0mchunksize\u001b[0m \u001b[1;32mor\u001b[0m \u001b[0miterator\u001b[0m\u001b[1;33m:\u001b[0m\u001b[1;33m\u001b[0m\u001b[1;33m\u001b[0m\u001b[0m\n",
      "\u001b[1;32mc:\\users\\harsh\\appdata\\local\\programs\\python\\python36\\lib\\site-packages\\pandas\\io\\parsers.py\u001b[0m in \u001b[0;36m__init__\u001b[1;34m(self, f, engine, **kwds)\u001b[0m\n\u001b[0;32m    946\u001b[0m             \u001b[0mself\u001b[0m\u001b[1;33m.\u001b[0m\u001b[0moptions\u001b[0m\u001b[1;33m[\u001b[0m\u001b[1;34m\"has_index_names\"\u001b[0m\u001b[1;33m]\u001b[0m \u001b[1;33m=\u001b[0m \u001b[0mkwds\u001b[0m\u001b[1;33m[\u001b[0m\u001b[1;34m\"has_index_names\"\u001b[0m\u001b[1;33m]\u001b[0m\u001b[1;33m\u001b[0m\u001b[1;33m\u001b[0m\u001b[0m\n\u001b[0;32m    947\u001b[0m \u001b[1;33m\u001b[0m\u001b[0m\n\u001b[1;32m--> 948\u001b[1;33m         \u001b[0mself\u001b[0m\u001b[1;33m.\u001b[0m\u001b[0m_make_engine\u001b[0m\u001b[1;33m(\u001b[0m\u001b[0mself\u001b[0m\u001b[1;33m.\u001b[0m\u001b[0mengine\u001b[0m\u001b[1;33m)\u001b[0m\u001b[1;33m\u001b[0m\u001b[1;33m\u001b[0m\u001b[0m\n\u001b[0m\u001b[0;32m    949\u001b[0m \u001b[1;33m\u001b[0m\u001b[0m\n\u001b[0;32m    950\u001b[0m     \u001b[1;32mdef\u001b[0m \u001b[0mclose\u001b[0m\u001b[1;33m(\u001b[0m\u001b[0mself\u001b[0m\u001b[1;33m)\u001b[0m\u001b[1;33m:\u001b[0m\u001b[1;33m\u001b[0m\u001b[1;33m\u001b[0m\u001b[0m\n",
      "\u001b[1;32mc:\\users\\harsh\\appdata\\local\\programs\\python\\python36\\lib\\site-packages\\pandas\\io\\parsers.py\u001b[0m in \u001b[0;36m_make_engine\u001b[1;34m(self, engine)\u001b[0m\n\u001b[0;32m   1178\u001b[0m     \u001b[1;32mdef\u001b[0m \u001b[0m_make_engine\u001b[0m\u001b[1;33m(\u001b[0m\u001b[0mself\u001b[0m\u001b[1;33m,\u001b[0m \u001b[0mengine\u001b[0m\u001b[1;33m=\u001b[0m\u001b[1;34m\"c\"\u001b[0m\u001b[1;33m)\u001b[0m\u001b[1;33m:\u001b[0m\u001b[1;33m\u001b[0m\u001b[1;33m\u001b[0m\u001b[0m\n\u001b[0;32m   1179\u001b[0m         \u001b[1;32mif\u001b[0m \u001b[0mengine\u001b[0m \u001b[1;33m==\u001b[0m \u001b[1;34m\"c\"\u001b[0m\u001b[1;33m:\u001b[0m\u001b[1;33m\u001b[0m\u001b[1;33m\u001b[0m\u001b[0m\n\u001b[1;32m-> 1180\u001b[1;33m             \u001b[0mself\u001b[0m\u001b[1;33m.\u001b[0m\u001b[0m_engine\u001b[0m \u001b[1;33m=\u001b[0m \u001b[0mCParserWrapper\u001b[0m\u001b[1;33m(\u001b[0m\u001b[0mself\u001b[0m\u001b[1;33m.\u001b[0m\u001b[0mf\u001b[0m\u001b[1;33m,\u001b[0m \u001b[1;33m**\u001b[0m\u001b[0mself\u001b[0m\u001b[1;33m.\u001b[0m\u001b[0moptions\u001b[0m\u001b[1;33m)\u001b[0m\u001b[1;33m\u001b[0m\u001b[1;33m\u001b[0m\u001b[0m\n\u001b[0m\u001b[0;32m   1181\u001b[0m         \u001b[1;32melse\u001b[0m\u001b[1;33m:\u001b[0m\u001b[1;33m\u001b[0m\u001b[1;33m\u001b[0m\u001b[0m\n\u001b[0;32m   1182\u001b[0m             \u001b[1;32mif\u001b[0m \u001b[0mengine\u001b[0m \u001b[1;33m==\u001b[0m \u001b[1;34m\"python\"\u001b[0m\u001b[1;33m:\u001b[0m\u001b[1;33m\u001b[0m\u001b[1;33m\u001b[0m\u001b[0m\n",
      "\u001b[1;32mc:\\users\\harsh\\appdata\\local\\programs\\python\\python36\\lib\\site-packages\\pandas\\io\\parsers.py\u001b[0m in \u001b[0;36m__init__\u001b[1;34m(self, src, **kwds)\u001b[0m\n\u001b[0;32m   2008\u001b[0m         \u001b[0mkwds\u001b[0m\u001b[1;33m[\u001b[0m\u001b[1;34m\"usecols\"\u001b[0m\u001b[1;33m]\u001b[0m \u001b[1;33m=\u001b[0m \u001b[0mself\u001b[0m\u001b[1;33m.\u001b[0m\u001b[0musecols\u001b[0m\u001b[1;33m\u001b[0m\u001b[1;33m\u001b[0m\u001b[0m\n\u001b[0;32m   2009\u001b[0m \u001b[1;33m\u001b[0m\u001b[0m\n\u001b[1;32m-> 2010\u001b[1;33m         \u001b[0mself\u001b[0m\u001b[1;33m.\u001b[0m\u001b[0m_reader\u001b[0m \u001b[1;33m=\u001b[0m \u001b[0mparsers\u001b[0m\u001b[1;33m.\u001b[0m\u001b[0mTextReader\u001b[0m\u001b[1;33m(\u001b[0m\u001b[0msrc\u001b[0m\u001b[1;33m,\u001b[0m \u001b[1;33m**\u001b[0m\u001b[0mkwds\u001b[0m\u001b[1;33m)\u001b[0m\u001b[1;33m\u001b[0m\u001b[1;33m\u001b[0m\u001b[0m\n\u001b[0m\u001b[0;32m   2011\u001b[0m         \u001b[0mself\u001b[0m\u001b[1;33m.\u001b[0m\u001b[0munnamed_cols\u001b[0m \u001b[1;33m=\u001b[0m \u001b[0mself\u001b[0m\u001b[1;33m.\u001b[0m\u001b[0m_reader\u001b[0m\u001b[1;33m.\u001b[0m\u001b[0munnamed_cols\u001b[0m\u001b[1;33m\u001b[0m\u001b[1;33m\u001b[0m\u001b[0m\n\u001b[0;32m   2012\u001b[0m \u001b[1;33m\u001b[0m\u001b[0m\n",
      "\u001b[1;32mpandas\\_libs\\parsers.pyx\u001b[0m in \u001b[0;36mpandas._libs.parsers.TextReader.__cinit__\u001b[1;34m()\u001b[0m\n",
      "\u001b[1;32mpandas\\_libs\\parsers.pyx\u001b[0m in \u001b[0;36mpandas._libs.parsers.TextReader._setup_parser_source\u001b[1;34m()\u001b[0m\n",
      "\u001b[1;31mFileNotFoundError\u001b[0m: [Errno 2] No such file or directory: './datasets/archive/Training.csv'"
     ]
    }
   ],
   "source": [
    "disease_in_data = pd.read_csv(\"./datasets/archive/Training.csv\")[\"prognosis\"]\n",
    "disease_in_data = list(set(disease_in_data))\n",
    "print(len(disease_in_data))"
   ]
  },
  {
   "cell_type": "code",
   "execution_count": 38,
   "id": "formal-stream",
   "metadata": {},
   "outputs": [
    {
     "name": "stdout",
     "output_type": "stream",
     "text": [
      "25\n"
     ]
    }
   ],
   "source": [
    "s = set()\n",
    "dk = di.keys()\n",
    "new_di = {}\n",
    "for e in disease_in_data:\n",
    "    for f in dk:\n",
    "        es = e.split()\n",
    "        for ese in es:\n",
    "            if ese.lower() in f.lower():\n",
    "                new_di[e] = di[f]\n",
    "                \n",
    "print(len(new_di))\n",
    "# print(s)"
   ]
  },
  {
   "cell_type": "code",
   "execution_count": 39,
   "id": "built-number",
   "metadata": {},
   "outputs": [
    {
     "data": {
      "text/plain": [
       "{'Diabetes ': ['Lucentis'],\n",
       " 'Arthritis': ['Valdyn'],\n",
       " 'Urinary tract infection': ['Vitravene', 'Vitrasert Implant'],\n",
       " 'Cervical spondylosis': ['Gardasil', 'Silgard'],\n",
       " 'Malaria': ['Eurartesim'],\n",
       " 'Hepatitis C': ['Primavax'],\n",
       " 'Hypertension ': ['INOmax'],\n",
       " 'Alcoholic hepatitis': ['Primavax'],\n",
       " 'Impetigo': ['Altargo'],\n",
       " 'Peptic ulcer diseae': ['Regranex'],\n",
       " 'Hepatitis E': ['Primavax'],\n",
       " 'Fungal infection': ['Vitravene', 'Vitrasert Implant'],\n",
       " 'Hepatitis B': ['Primavax'],\n",
       " 'Drug Reaction': ['Ondexxya'],\n",
       " 'Chicken pox': ['Imvanex'],\n",
       " 'Bronchial Asthma': ['DuoResp Spiromax',\n",
       "  'BiResp Spiromax',\n",
       "  'Aerivio Spiromax',\n",
       "  'Airexar Spiromax',\n",
       "  'Budesonide/Formoterol Teva',\n",
       "  'Vylaer Spiromax'],\n",
       " 'Tuberculosis': ['Granupas (previously Para-aminosalicylic acid Lucane)'],\n",
       " 'Heart attack': ['Neparvis', 'Verquvo', 'Entresto', 'Reasanz'],\n",
       " 'Psoriasis': ['Solymbic'],\n",
       " 'Dengue': ['Dengvaxia'],\n",
       " 'Migraine': ['Aimovig', 'Emgality', 'Ajovy', 'Sumatriptan Galpharm'],\n",
       " 'Chronic cholestasis': ['Levviax'],\n",
       " 'Pneumonia': ['Levviax'],\n",
       " 'Hepatitis D': ['Primavax'],\n",
       " 'hepatitis A': ['Primavax']}"
      ]
     },
     "execution_count": 39,
     "metadata": {},
     "output_type": "execute_result"
    }
   ],
   "source": [
    "new_di"
   ]
  },
  {
   "cell_type": "code",
   "execution_count": 40,
   "id": "global-format",
   "metadata": {},
   "outputs": [],
   "source": [
    "m_di = {'Diabetes ': ['Lucentis'],\n",
    " 'Arthritis': ['Valdyn'],\n",
    " 'Urinary tract infection': ['Vitravene', 'Vitrasert Implant'],\n",
    " 'Cervical spondylosis': ['Gardasil', 'Silgard'],\n",
    " 'Malaria': ['Eurartesim'],\n",
    " 'Hepatitis C': ['Primavax'],\n",
    " 'Hypertension ': ['INOmax'],\n",
    " 'Alcoholic hepatitis': ['Primavax'],\n",
    " 'Impetigo': ['Altargo'],\n",
    " 'Peptic ulcer diseae': ['Regranex'],\n",
    " 'Hepatitis E': ['Primavax'],\n",
    " 'Fungal infection': ['Vitravene', 'Vitrasert Implant'],\n",
    " 'Hepatitis B': ['Primavax'],\n",
    " 'Drug Reaction': ['Ondexxya'],\n",
    " 'Chicken pox': ['Imvanex'],\n",
    " 'Bronchial Asthma': ['DuoResp Spiromax',\n",
    "  'BiResp Spiromax',\n",
    "  'Aerivio Spiromax',\n",
    "  'Airexar Spiromax',\n",
    "  'Budesonide/Formoterol Teva',\n",
    "  'Vylaer Spiromax'],\n",
    " 'Tuberculosis': ['Granupas (previously Para-aminosalicylic acid Lucane)'],\n",
    " 'Heart attack': ['Neparvis', 'Verquvo', 'Entresto', 'Reasanz'],\n",
    " 'Psoriasis': ['Solymbic'],\n",
    " 'Dengue': ['Dengvaxia'],\n",
    " 'Migraine': ['Aimovig', 'Emgality', 'Ajovy', 'Sumatriptan Galpharm'],\n",
    " 'Chronic cholestasis': ['Levviax'],\n",
    " 'Pneumonia': ['Levviax'],\n",
    " 'Hepatitis D': ['Primavax'],\n",
    " 'hepatitis A': ['Primavax']}"
   ]
  },
  {
   "cell_type": "code",
   "execution_count": 41,
   "id": "vocational-greek",
   "metadata": {},
   "outputs": [
    {
     "data": {
      "text/plain": [
       "{'Diabetes ': ['Lucentis'],\n",
       " 'Arthritis': ['Valdyn'],\n",
       " 'Urinary tract infection': ['Vitravene', 'Vitrasert Implant'],\n",
       " 'Cervical spondylosis': ['Gardasil', 'Silgard'],\n",
       " 'Malaria': ['Eurartesim'],\n",
       " 'Hepatitis C': ['Primavax'],\n",
       " 'Hypertension ': ['INOmax'],\n",
       " 'Alcoholic hepatitis': ['Primavax'],\n",
       " 'Impetigo': ['Altargo'],\n",
       " 'Peptic ulcer diseae': ['Regranex'],\n",
       " 'Hepatitis E': ['Primavax'],\n",
       " 'Fungal infection': ['Vitravene', 'Vitrasert Implant'],\n",
       " 'Hepatitis B': ['Primavax'],\n",
       " 'Drug Reaction': ['Ondexxya'],\n",
       " 'Chicken pox': ['Imvanex'],\n",
       " 'Bronchial Asthma': ['DuoResp Spiromax',\n",
       "  'BiResp Spiromax',\n",
       "  'Aerivio Spiromax',\n",
       "  'Airexar Spiromax',\n",
       "  'Budesonide/Formoterol Teva',\n",
       "  'Vylaer Spiromax'],\n",
       " 'Tuberculosis': ['Granupas (previously Para-aminosalicylic acid Lucane)'],\n",
       " 'Heart attack': ['Neparvis', 'Verquvo', 'Entresto', 'Reasanz'],\n",
       " 'Psoriasis': ['Solymbic'],\n",
       " 'Dengue': ['Dengvaxia'],\n",
       " 'Migraine': ['Aimovig', 'Emgality', 'Ajovy', 'Sumatriptan Galpharm'],\n",
       " 'Chronic cholestasis': ['Levviax'],\n",
       " 'Pneumonia': ['Levviax'],\n",
       " 'Hepatitis D': ['Primavax'],\n",
       " 'hepatitis A': ['Primavax']}"
      ]
     },
     "execution_count": 41,
     "metadata": {},
     "output_type": "execute_result"
    }
   ],
   "source": [
    "m_di"
   ]
  },
  {
   "cell_type": "markdown",
   "id": "bridal-premium",
   "metadata": {},
   "source": [
    "# exploring new dataset for medicines"
   ]
  },
  {
   "cell_type": "code",
   "execution_count": 2,
   "id": "anonymous-level",
   "metadata": {},
   "outputs": [],
   "source": [
    "dataset = pd.read_csv('../datasets/chemicals.csv')"
   ]
  },
  {
   "cell_type": "code",
   "execution_count": 3,
   "id": "labeled-dayton",
   "metadata": {},
   "outputs": [
    {
     "data": {
      "text/html": [
       "<div>\n",
       "<style scoped>\n",
       "    .dataframe tbody tr th:only-of-type {\n",
       "        vertical-align: middle;\n",
       "    }\n",
       "\n",
       "    .dataframe tbody tr th {\n",
       "        vertical-align: top;\n",
       "    }\n",
       "\n",
       "    .dataframe thead th {\n",
       "        text-align: right;\n",
       "    }\n",
       "</style>\n",
       "<table border=\"1\" class=\"dataframe\">\n",
       "  <thead>\n",
       "    <tr style=\"text-align: right;\">\n",
       "      <th></th>\n",
       "      <th>chemical_name</th>\n",
       "      <th>disease_name</th>\n",
       "    </tr>\n",
       "  </thead>\n",
       "  <tbody>\n",
       "    <tr>\n",
       "      <th>0</th>\n",
       "      <td>5-HT</td>\n",
       "      <td>psychotic disorders</td>\n",
       "    </tr>\n",
       "    <tr>\n",
       "      <th>1</th>\n",
       "      <td>D-penicillamine</td>\n",
       "      <td>localized scleroderma</td>\n",
       "    </tr>\n",
       "    <tr>\n",
       "      <th>2</th>\n",
       "      <td>yohimbine</td>\n",
       "      <td>affective disorders</td>\n",
       "    </tr>\n",
       "    <tr>\n",
       "      <th>3</th>\n",
       "      <td>calcium</td>\n",
       "      <td>muscle spasms</td>\n",
       "    </tr>\n",
       "    <tr>\n",
       "      <th>4</th>\n",
       "      <td>dexrazoxane</td>\n",
       "      <td>hematologic toxicity</td>\n",
       "    </tr>\n",
       "  </tbody>\n",
       "</table>\n",
       "</div>"
      ],
      "text/plain": [
       "     chemical_name           disease_name\n",
       "0             5-HT    psychotic disorders\n",
       "1  D-penicillamine  localized scleroderma\n",
       "2        yohimbine    affective disorders\n",
       "3          calcium          muscle spasms\n",
       "4      dexrazoxane   hematologic toxicity"
      ]
     },
     "execution_count": 3,
     "metadata": {},
     "output_type": "execute_result"
    }
   ],
   "source": [
    "dataset.head()"
   ]
  },
  {
   "cell_type": "code",
   "execution_count": 12,
   "id": "minor-challenge",
   "metadata": {},
   "outputs": [
    {
     "data": {
      "text/plain": [
       "['daunorubicin',\n",
       " 'AZT',\n",
       " 'zidovudine',\n",
       " 'neopterin',\n",
       " 'furazolidone',\n",
       " 'nevirapine/NVP',\n",
       " 'EFV/efavirenz',\n",
       " 'abacavir',\n",
       " 'saquinavir',\n",
       " 'nelfinavir',\n",
       " 'ritonavir/RTV',\n",
       " 'NVP',\n",
       " 'RTV']"
      ]
     },
     "execution_count": 12,
     "metadata": {},
     "output_type": "execute_result"
    }
   ],
   "source": [
    "di = {}\n",
    "chemicals = dataset[\"chemical_name\"]\n",
    "disease = dataset[\"disease_name\"]\n",
    "for i in range(len(chemicals)):\n",
    "    di[disease[i]] = di.get(disease[i], list())\n",
    "    if chemicals[i] not in di[disease[i]]:\n",
    "        di[disease[i]].append(chemicals[i])\n",
    "di[\"AIDS\"]"
   ]
  },
  {
   "cell_type": "code",
   "execution_count": 14,
   "id": "neural-aviation",
   "metadata": {},
   "outputs": [
    {
     "name": "stdout",
     "output_type": "stream",
     "text": [
      "41\n"
     ]
    }
   ],
   "source": [
    "# training dataset for diseases\n",
    "disease_in_data = pd.read_csv(\"../datasets/archive/Training.csv\")[\"prognosis\"]\n",
    "disease_in_data = list(set(disease_in_data))\n",
    "print(len(disease_in_data))"
   ]
  },
  {
   "cell_type": "code",
   "execution_count": 25,
   "id": "answering-smooth",
   "metadata": {},
   "outputs": [
    {
     "name": "stdout",
     "output_type": "stream",
     "text": [
      "{'Bronchial Asthma', 'Acne', 'Pneumonia', 'Hepatitis C', 'Migraine', 'Arthritis', 'Jaundice', 'Hyperthyroidism', 'Drug Reaction', 'Tuberculosis', 'Hypoglycemia', 'Typhoid', 'Psoriasis', 'Dengue', 'Hepatitis B', 'Allergy', 'Diabetes ', 'AIDS', 'Fungal infection', 'Malaria', 'Hypothyroidism'} 21\n"
     ]
    }
   ],
   "source": [
    "s = set()\n",
    "for e in disease_in_data:\n",
    "    for f in di.keys():\n",
    "        if e.lower() in f.lower():\n",
    "#             print(e,f)\n",
    "            s.add(e)\n",
    "# len(s)\n",
    "print(s, len(s))"
   ]
  },
  {
   "cell_type": "code",
   "execution_count": 47,
   "id": "spiritual-grain",
   "metadata": {},
   "outputs": [],
   "source": [
    "# medicines in prev dataset\n",
    "m_di = {'Diabetes ': ['Lucentis'],\n",
    " 'Arthritis': ['Valdyn'],\n",
    " 'Urinary tract infection': ['Vitravene', 'Vitrasert Implant'],\n",
    " 'Cervical spondylosis': ['Gardasil', 'Silgard'],\n",
    " 'Malaria': ['Eurartesim'],\n",
    " 'Hepatitis C': ['Primavax'],\n",
    " 'Hypertension ': ['INOmax'],\n",
    " 'Alcoholic hepatitis': ['Primavax'],\n",
    " 'Impetigo': ['Altargo'],\n",
    " 'Peptic ulcer diseae': ['Regranex'],\n",
    " 'Hepatitis E': ['Primavax'],\n",
    " 'Fungal infection': ['Vitravene', 'Vitrasert Implant'],\n",
    " 'Hepatitis B': ['Primavax'],\n",
    " 'Drug Reaction': ['Ondexxya'],\n",
    " 'Chicken pox': ['Imvanex'],\n",
    " 'Bronchial Asthma': ['DuoResp Spiromax',\n",
    "  'BiResp Spiromax',\n",
    "  'Aerivio Spiromax',\n",
    "  'Airexar Spiromax',\n",
    "  'Budesonide/Formoterol Teva',\n",
    "  'Vylaer Spiromax'],\n",
    " 'Tuberculosis': ['Granupas (previously Para-aminosalicylic acid Lucane)'],\n",
    " 'Heart attack': ['Neparvis', 'Verquvo', 'Entresto', 'Reasanz'],\n",
    " 'Psoriasis': ['Solymbic'],\n",
    " 'Dengue': ['Dengvaxia'],\n",
    " 'Migraine': ['Aimovig', 'Emgality', 'Ajovy', 'Sumatriptan Galpharm'],\n",
    " 'Chronic cholestasis': ['Levviax'],\n",
    " 'Pneumonia': ['Levviax'],\n",
    " 'Hepatitis D': ['Primavax'],\n",
    " 'hepatitis A': ['Primavax']}"
   ]
  },
  {
   "cell_type": "code",
   "execution_count": 30,
   "id": "touched-brazilian",
   "metadata": {},
   "outputs": [
    {
     "name": "stdout",
     "output_type": "stream",
     "text": [
      "{'Bronchial Asthma', 'Pneumonia', 'Chicken pox', 'Hepatitis C', 'Alcoholic hepatitis', 'Migraine', 'Arthritis', 'Drug Reaction', 'Tuberculosis', 'hepatitis A', 'Impetigo', 'Hepatitis D', 'Dengue', 'Psoriasis', 'Hepatitis B', 'Urinary tract infection', 'Peptic ulcer diseae', 'Hepatitis E', 'Diabetes ', 'Hypertension ', 'Chronic cholestasis', 'Heart attack', 'Fungal infection', 'Malaria', 'Cervical spondylosis'} 25\n"
     ]
    }
   ],
   "source": [
    "prev_set = set(m_di.keys())\n",
    "print(prev_set, len(prev_set))"
   ]
  },
  {
   "cell_type": "code",
   "execution_count": 35,
   "id": "alternative-vermont",
   "metadata": {},
   "outputs": [
    {
     "name": "stdout",
     "output_type": "stream",
     "text": [
      "{'Migraine', 'Bronchial Asthma', 'Arthritis', 'Hepatitis B', 'Fungal infection', 'Malaria', 'Drug Reaction', 'Pneumonia', 'Tuberculosis', 'Dengue', 'Hepatitis C', 'Diabetes ', 'Psoriasis'} 13\n"
     ]
    }
   ],
   "source": [
    "# intersection\n",
    "intersection = s.intersection(prev_set)\n",
    "print(intersection, len(intersection))"
   ]
  },
  {
   "cell_type": "code",
   "execution_count": 37,
   "id": "absolute-polls",
   "metadata": {},
   "outputs": [
    {
     "name": "stdout",
     "output_type": "stream",
     "text": [
      "{'AIDS', 'Acne', 'Jaundice', 'Hyperthyroidism', 'Allergy', 'Hypoglycemia', 'Typhoid', 'Hypothyroidism'} 8\n"
     ]
    }
   ],
   "source": [
    "# difference\n",
    "difference = s.difference(prev_set)\n",
    "print(difference, len(difference))"
   ]
  },
  {
   "cell_type": "code",
   "execution_count": 54,
   "id": "surgical-vacation",
   "metadata": {},
   "outputs": [
    {
     "ename": "RuntimeError",
     "evalue": "dictionary changed size during iteration",
     "output_type": "error",
     "traceback": [
      "\u001b[1;31m---------------------------------------------------------------------------\u001b[0m",
      "\u001b[1;31mRuntimeError\u001b[0m                              Traceback (most recent call last)",
      "\u001b[1;32m<ipython-input-54-85192257f8b4>\u001b[0m in \u001b[0;36m<module>\u001b[1;34m\u001b[0m\n\u001b[0;32m      1\u001b[0m \u001b[0mtype\u001b[0m\u001b[1;33m(\u001b[0m\u001b[0mm_di\u001b[0m\u001b[1;33m)\u001b[0m\u001b[1;33m\u001b[0m\u001b[1;33m\u001b[0m\u001b[0m\n\u001b[0;32m      2\u001b[0m \u001b[1;32mfor\u001b[0m \u001b[0me\u001b[0m \u001b[1;32min\u001b[0m \u001b[0mdisease_in_data\u001b[0m\u001b[1;33m:\u001b[0m\u001b[1;33m\u001b[0m\u001b[1;33m\u001b[0m\u001b[0m\n\u001b[1;32m----> 3\u001b[1;33m     \u001b[1;32mfor\u001b[0m \u001b[0mf\u001b[0m \u001b[1;32min\u001b[0m \u001b[0mdi\u001b[0m\u001b[1;33m.\u001b[0m\u001b[0mkeys\u001b[0m\u001b[1;33m(\u001b[0m\u001b[1;33m)\u001b[0m\u001b[1;33m:\u001b[0m\u001b[1;33m\u001b[0m\u001b[1;33m\u001b[0m\u001b[0m\n\u001b[0m\u001b[0;32m      4\u001b[0m         \u001b[1;32mif\u001b[0m \u001b[0me\u001b[0m\u001b[1;33m.\u001b[0m\u001b[0mlower\u001b[0m\u001b[1;33m(\u001b[0m\u001b[1;33m)\u001b[0m \u001b[1;32min\u001b[0m \u001b[0mf\u001b[0m\u001b[1;33m.\u001b[0m\u001b[0mlower\u001b[0m\u001b[1;33m(\u001b[0m\u001b[1;33m)\u001b[0m\u001b[1;33m:\u001b[0m\u001b[1;33m\u001b[0m\u001b[1;33m\u001b[0m\u001b[0m\n\u001b[0;32m      5\u001b[0m             \u001b[0mdi\u001b[0m\u001b[1;33m[\u001b[0m\u001b[0me\u001b[0m\u001b[1;33m]\u001b[0m \u001b[1;33m=\u001b[0m \u001b[0mdi\u001b[0m\u001b[1;33m[\u001b[0m\u001b[0mf\u001b[0m\u001b[1;33m]\u001b[0m\u001b[1;33m\u001b[0m\u001b[1;33m\u001b[0m\u001b[0m\n",
      "\u001b[1;31mRuntimeError\u001b[0m: dictionary changed size during iteration"
     ]
    }
   ],
   "source": [
    "type(m_di)\n",
    "for e in disease_in_data:\n",
    "    for f in di.keys():\n",
    "        if e.lower() in f.lower():\n",
    "            di[e] = di[f]"
   ]
  },
  {
   "cell_type": "code",
   "execution_count": 49,
   "id": "integral-franchise",
   "metadata": {},
   "outputs": [],
   "source": [
    "for e in difference:\n",
    "    if e in di:\n",
    "        m_di[e] = di[e]"
   ]
  },
  {
   "cell_type": "code",
   "execution_count": 51,
   "id": "promising-criminal",
   "metadata": {},
   "outputs": [
    {
     "name": "stdout",
     "output_type": "stream",
     "text": [
      "{'Diabetes ': ['Lucentis'], 'Arthritis': ['Valdyn'], 'Urinary tract infection': ['Vitravene', 'Vitrasert Implant'], 'Cervical spondylosis': ['Gardasil', 'Silgard'], 'Malaria': ['Eurartesim'], 'Hepatitis C': ['Primavax'], 'Hypertension ': ['INOmax'], 'Alcoholic hepatitis': ['Primavax'], 'Impetigo': ['Altargo'], 'Peptic ulcer diseae': ['Regranex'], 'Hepatitis E': ['Primavax'], 'Fungal infection': ['Vitravene', 'Vitrasert Implant'], 'Hepatitis B': ['Primavax'], 'Drug Reaction': ['Ondexxya'], 'Chicken pox': ['Imvanex'], 'Bronchial Asthma': ['DuoResp Spiromax', 'BiResp Spiromax', 'Aerivio Spiromax', 'Airexar Spiromax', 'Budesonide/Formoterol Teva', 'Vylaer Spiromax'], 'Tuberculosis': ['Granupas (previously Para-aminosalicylic acid Lucane)'], 'Heart attack': ['Neparvis', 'Verquvo', 'Entresto', 'Reasanz'], 'Psoriasis': ['Solymbic'], 'Dengue': ['Dengvaxia'], 'Migraine': ['Aimovig', 'Emgality', 'Ajovy', 'Sumatriptan Galpharm'], 'Chronic cholestasis': ['Levviax'], 'Pneumonia': ['Levviax'], 'Hepatitis D': ['Primavax'], 'hepatitis A': ['Primavax'], 'AIDS': ['daunorubicin', 'AZT', 'zidovudine', 'neopterin', 'furazolidone', 'nevirapine/NVP', 'EFV/efavirenz', 'abacavir', 'saquinavir', 'nelfinavir', 'ritonavir/RTV', 'NVP', 'RTV'], 'Hypothyroidism': ['tyrosine']}\n",
      "27\n"
     ]
    }
   ],
   "source": [
    "print(m_di)\n",
    "print(len(m_di))"
   ]
  },
  {
   "cell_type": "code",
   "execution_count": 52,
   "id": "curious-testament",
   "metadata": {},
   "outputs": [
    {
     "data": {
      "text/plain": [
       "8"
      ]
     },
     "execution_count": 52,
     "metadata": {},
     "output_type": "execute_result"
    }
   ],
   "source": [
    "count = 0\n",
    "for e in s:\n",
    "    if e not in prev_set:\n",
    "        count += 1\n",
    "count"
   ]
  },
  {
   "cell_type": "code",
   "execution_count": null,
   "id": "controlling-enzyme",
   "metadata": {},
   "outputs": [],
   "source": []
  }
 ],
 "metadata": {
  "kernelspec": {
   "display_name": "Python 3",
   "language": "python",
   "name": "python3"
  },
  "language_info": {
   "codemirror_mode": {
    "name": "ipython",
    "version": 3
   },
   "file_extension": ".py",
   "mimetype": "text/x-python",
   "name": "python",
   "nbconvert_exporter": "python",
   "pygments_lexer": "ipython3",
   "version": "3.6.8"
  }
 },
 "nbformat": 4,
 "nbformat_minor": 5
}
