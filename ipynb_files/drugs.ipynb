{
 "cells": [
  {
   "cell_type": "code",
   "execution_count": 2,
   "id": "designing-advantage",
   "metadata": {},
   "outputs": [],
   "source": [
    "import pandas as pd"
   ]
  },
  {
   "cell_type": "code",
   "execution_count": 3,
   "id": "optimum-bathroom",
   "metadata": {},
   "outputs": [],
   "source": [
    "dataset = pd.read_csv(\"../datasets/drugs.csv\")"
   ]
  },
  {
   "cell_type": "code",
   "execution_count": 4,
   "id": "frequent-blind",
   "metadata": {},
   "outputs": [
    {
     "name": "stdout",
     "output_type": "stream",
     "text": [
      "41\n"
     ]
    }
   ],
   "source": [
    "disease_in_data = pd.read_csv(\"../datasets/archive/Training.csv\")[\"prognosis\"]\n",
    "disease_in_data = list(set(disease_in_data))\n",
    "print(len(disease_in_data))"
   ]
  },
  {
   "cell_type": "code",
   "execution_count": 5,
   "id": "hawaiian-conflict",
   "metadata": {},
   "outputs": [],
   "source": [
    "di = {}\n",
    "di41 = {}\n",
    "disease_name = dataset[\"condition\"]\n",
    "drug_name = dataset[\"drugName\"]\n",
    "for i in range(len(disease_name)):\n",
    "    if disease_name[i] is not None and type(disease_name[i]) == type(\"hvt\"):\n",
    "        di[disease_name[i]] = di.get(disease_name[i], list())\n",
    "        di[disease_name[i]].append(drug_name[i])"
   ]
  },
  {
   "cell_type": "code",
   "execution_count": 6,
   "id": "alpine-insertion",
   "metadata": {},
   "outputs": [],
   "source": [
    "def check(a, b):\n",
    "    ali = a.lower().split()\n",
    "    bli = b.lower().split()\n",
    "    for e in ali:\n",
    "        for f in bli:\n",
    "            if e == f:\n",
    "                return True\n",
    "    return False"
   ]
  },
  {
   "cell_type": "code",
   "execution_count": 7,
   "id": "antique-showcase",
   "metadata": {},
   "outputs": [],
   "source": [
    "di41 = {}\n",
    "for e in disease_in_data:\n",
    "    for f in di.keys():\n",
    "        if check(e,f):\n",
    "            di41[e] = di[f]"
   ]
  },
  {
   "cell_type": "code",
   "execution_count": 8,
   "id": "sharp-staff",
   "metadata": {},
   "outputs": [
    {
     "data": {
      "text/plain": [
       "31"
      ]
     },
     "execution_count": 8,
     "metadata": {},
     "output_type": "execute_result"
    }
   ],
   "source": [
    "len(di41)"
   ]
  },
  {
   "cell_type": "code",
   "execution_count": 9,
   "id": "thirty-growing",
   "metadata": {},
   "outputs": [],
   "source": [
    "for e in di41:\n",
    "    di41[e] = list(set(di41[e][:4]))"
   ]
  },
  {
   "cell_type": "code",
   "execution_count": 10,
   "id": "going-weekly",
   "metadata": {},
   "outputs": [
    {
     "data": {
      "text/plain": [
       "{'Bronchial Asthma': ['Prednisone', 'Dulera', 'Montelukast'],\n",
       " 'Fungal infection': ['Itraconazole'],\n",
       " 'Hypoglycemia': ['Proglycem', 'Glucose', 'Diazoxide', 'Insta-Glucose'],\n",
       " 'Alcoholic hepatitis': ['Hepatitis b adult vaccine'],\n",
       " 'Acne': ['Spironolactone',\n",
       "  'Ethinyl estradiol / norgestimate',\n",
       "  'Adapalene / benzoyl peroxide',\n",
       "  'Tretinoin'],\n",
       " 'Hepatitis C': ['Hepatitis b adult vaccine'],\n",
       " 'Chronic cholestasis': ['Imatinib', 'Gleevec'],\n",
       " 'Typhoid': ['Ciprofloxacin', 'Cipro'],\n",
       " 'Paralysis (brain hemorrhage)': ['Dichlorphenamide'],\n",
       " 'Hypertension ': ['Zioptan', 'Combigan', 'Tafluprost'],\n",
       " 'Diabetes ': ['Insulin isophane'],\n",
       " 'Common Cold': ['Rilonacept', 'Arcalyst'],\n",
       " 'Cervical spondylosis': ['Botox', 'OnabotulinumtoxinA'],\n",
       " 'Hyperthyroidism': ['Methimazole', 'Tapazole'],\n",
       " 'Peptic ulcer diseae': ['Sucralfate', 'Carafate', 'Pantoprazole'],\n",
       " 'Urinary tract infection': ['Itraconazole'],\n",
       " 'Pneumonia': ['Fluconazole'],\n",
       " 'Drug Reaction': ['Benztropine', 'Artane', 'Trihexyphenidyl'],\n",
       " 'Arthritis': ['Sulindac', 'Etanercept', 'Enbrel'],\n",
       " 'Hepatitis E': ['Hepatitis b adult vaccine'],\n",
       " 'Malaria': ['Atovaquone / proguanil', 'Doxycycline', 'Coartem'],\n",
       " 'AIDS': ['Marinol', 'Somatropin', 'Dronabinol'],\n",
       " 'Heart attack': ['Epinephrine'],\n",
       " 'Psoriasis': ['Secukinumab', 'Otezla', 'Adalimumab', 'Taclonex'],\n",
       " 'Gastroenteritis': ['Ofloxacin', 'Floxin'],\n",
       " 'GERD': ['Ranitidine', 'Sucralfate', 'Dexilant', 'Mylanta'],\n",
       " 'hepatitis A': ['Hepatitis b adult vaccine'],\n",
       " 'Migraine': ['Eletriptan', 'Zomig', 'Relpax', 'Imitrex'],\n",
       " 'Varicose veins': ['Polidocanol', 'Horse chestnut'],\n",
       " 'Hepatitis D': ['Hepatitis b adult vaccine'],\n",
       " 'Hepatitis B': ['Clindamycin']}"
      ]
     },
     "execution_count": 10,
     "metadata": {},
     "output_type": "execute_result"
    }
   ],
   "source": [
    "di41"
   ]
  },
  {
   "cell_type": "code",
   "execution_count": 11,
   "id": "concrete-maker",
   "metadata": {},
   "outputs": [
    {
     "name": "stdout",
     "output_type": "stream",
     "text": [
      "Tuberculosis\n",
      "Chicken pox\n",
      "Dengue\n",
      "Jaundice\n",
      "Dimorphic hemmorhoids(piles)\n",
      "Osteoarthristis\n",
      "Allergy\n",
      "(vertigo) Paroymsal  Positional Vertigo\n",
      "Hypothyroidism\n",
      "Impetigo\n"
     ]
    }
   ],
   "source": [
    "for e in disease_in_data:\n",
    "    if e not in di41.keys():\n",
    "        print(e)"
   ]
  },
  {
   "cell_type": "code",
   "execution_count": 12,
   "id": "ranging-channel",
   "metadata": {},
   "outputs": [],
   "source": [
    "m_di = {'Diabetes ': ['Lucentis'],\n",
    " 'Arthritis': ['Valdyn'],\n",
    " 'Urinary tract infection': ['Vitravene', 'Vitrasert Implant'],\n",
    " 'Cervical spondylosis': ['Gardasil', 'Silgard'],\n",
    " 'Malaria': ['Eurartesim'],\n",
    " 'Hepatitis C': ['Primavax'],\n",
    " 'Hypertension ': ['INOmax'],\n",
    " 'Alcoholic hepatitis': ['Primavax'],\n",
    " 'Impetigo': ['Altargo'],\n",
    " 'Peptic ulcer diseae': ['Regranex'],\n",
    " 'Hepatitis E': ['Primavax'],\n",
    " 'Fungal infection': ['Vitravene', 'Vitrasert Implant'],\n",
    " 'Hepatitis B': ['Primavax'],\n",
    " 'Drug Reaction': ['Ondexxya'],\n",
    " 'Chicken pox': ['Imvanex'],\n",
    " 'Bronchial Asthma': ['DuoResp Spiromax',\n",
    "  'BiResp Spiromax',\n",
    "  'Aerivio Spiromax',\n",
    "  'Airexar Spiromax',\n",
    "  'Budesonide/Formoterol Teva',\n",
    "  'Vylaer Spiromax'],\n",
    " 'Tuberculosis': ['Granupas (previously Para-aminosalicylic acid Lucane)'],\n",
    " 'Heart attack': ['Neparvis', 'Verquvo', 'Entresto', 'Reasanz'],\n",
    " 'Psoriasis': ['Solymbic'],\n",
    " 'Dengue': ['Dengvaxia'],\n",
    " 'Migraine': ['Aimovig', 'Emgality', 'Ajovy', 'Sumatriptan Galpharm'],\n",
    " 'Chronic cholestasis': ['Levviax'],\n",
    " 'Pneumonia': ['Levviax'],\n",
    " 'Hepatitis D': ['Primavax'],\n",
    " 'hepatitis A': ['Primavax']}"
   ]
  },
  {
   "cell_type": "code",
   "execution_count": 13,
   "id": "crucial-apartment",
   "metadata": {},
   "outputs": [],
   "source": [
    "for e in m_di:\n",
    "    if e not in di41.keys():\n",
    "        di41[e] = m_di[e]\n",
    "    else:\n",
    "        di41[e] += m_di[e]"
   ]
  },
  {
   "cell_type": "code",
   "execution_count": 14,
   "id": "cubic-religion",
   "metadata": {},
   "outputs": [
    {
     "data": {
      "text/plain": [
       "35"
      ]
     },
     "execution_count": 14,
     "metadata": {},
     "output_type": "execute_result"
    }
   ],
   "source": [
    "len(di41)"
   ]
  },
  {
   "cell_type": "code",
   "execution_count": 15,
   "id": "recreational-picking",
   "metadata": {},
   "outputs": [
    {
     "name": "stdout",
     "output_type": "stream",
     "text": [
      "Jaundice\n",
      "Dimorphic hemmorhoids(piles)\n",
      "Osteoarthristis\n",
      "Allergy\n",
      "(vertigo) Paroymsal  Positional Vertigo\n",
      "Hypothyroidism\n"
     ]
    }
   ],
   "source": [
    "for e in disease_in_data:\n",
    "    if e not in di41.keys():\n",
    "        print(e)"
   ]
  },
  {
   "cell_type": "code",
   "execution_count": 16,
   "id": "dirty-emergency",
   "metadata": {},
   "outputs": [],
   "source": [
    "ds3 = pd.read_csv(\"../datasets/chemicals.csv\")"
   ]
  },
  {
   "cell_type": "code",
   "execution_count": 17,
   "id": "collectible-clark",
   "metadata": {},
   "outputs": [],
   "source": [
    "c_di = {}\n",
    "chemicals = ds3[\"chemical_name\"]\n",
    "disease = ds3[\"disease_name\"]\n",
    "for i in range(len(chemicals)):\n",
    "    c_di[disease[i]] = c_di.get(disease[i], list())\n",
    "    if chemicals[i] not in c_di[disease[i]]:\n",
    "        c_di[disease[i]].append(chemicals[i])"
   ]
  },
  {
   "cell_type": "code",
   "execution_count": 18,
   "id": "going-maryland",
   "metadata": {},
   "outputs": [],
   "source": [
    "for e in disease_in_data:\n",
    "    for f in c_di.keys():\n",
    "        if check(e,f):\n",
    "            di41[e] = di41.get(e, list())\n",
    "            di41[e] += c_di[f]"
   ]
  },
  {
   "cell_type": "code",
   "execution_count": 19,
   "id": "valid-depression",
   "metadata": {},
   "outputs": [
    {
     "data": {
      "text/plain": [
       "38"
      ]
     },
     "execution_count": 19,
     "metadata": {},
     "output_type": "execute_result"
    }
   ],
   "source": [
    "len(di41)"
   ]
  },
  {
   "cell_type": "code",
   "execution_count": 20,
   "id": "tight-corporation",
   "metadata": {},
   "outputs": [
    {
     "name": "stdout",
     "output_type": "stream",
     "text": [
      "Dimorphic hemmorhoids(piles)\n",
      "Osteoarthristis\n",
      "(vertigo) Paroymsal  Positional Vertigo\n"
     ]
    }
   ],
   "source": [
    "for e in disease_in_data:\n",
    "    if e not in di41.keys():\n",
    "        di41[e] = [\"NA\"]\n",
    "        print(e)"
   ]
  },
  {
   "cell_type": "code",
   "execution_count": 21,
   "id": "previous-florist",
   "metadata": {},
   "outputs": [],
   "source": [
    "import json"
   ]
  },
  {
   "cell_type": "code",
   "execution_count": 22,
   "id": "automatic-comparison",
   "metadata": {},
   "outputs": [],
   "source": [
    "# saving dictionary to json file\n",
    "with open(\"../datasets/medicines.json\", \"w\") as file:\n",
    "    json.dump(di41, file)"
   ]
  },
  {
   "cell_type": "code",
   "execution_count": 23,
   "id": "existing-default",
   "metadata": {},
   "outputs": [],
   "source": [
    "# fetching dictionary from json file\n",
    "with open(\"../datasets/medicines.json\") as file:\n",
    "    final_di = json.load(file)"
   ]
  },
  {
   "cell_type": "code",
   "execution_count": 24,
   "id": "amended-bracelet",
   "metadata": {},
   "outputs": [
    {
     "name": "stdout",
     "output_type": "stream",
     "text": [
      "<class 'dict'>\n"
     ]
    }
   ],
   "source": [
    "print(type(final_di))"
   ]
  },
  {
   "cell_type": "code",
   "execution_count": null,
   "id": "ranking-barcelona",
   "metadata": {},
   "outputs": [],
   "source": []
  }
 ],
 "metadata": {
  "kernelspec": {
   "display_name": "Python 3",
   "language": "python",
   "name": "python3"
  },
  "language_info": {
   "codemirror_mode": {
    "name": "ipython",
    "version": 3
   },
   "file_extension": ".py",
   "mimetype": "text/x-python",
   "name": "python",
   "nbconvert_exporter": "python",
   "pygments_lexer": "ipython3",
   "version": "3.6.8"
  }
 },
 "nbformat": 4,
 "nbformat_minor": 5
}
